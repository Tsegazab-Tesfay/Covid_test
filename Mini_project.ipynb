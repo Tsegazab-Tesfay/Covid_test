{
 "cells": [
  {
   "cell_type": "code",
   "execution_count": null,
   "metadata": {},
   "outputs": [],
   "source": []
  },
  {
   "cell_type": "code",
   "execution_count": 7,
   "metadata": {},
   "outputs": [
    {
     "name": "stderr",
     "output_type": "stream",
     "text": [
      "[nltk_data] Downloading package stopwords to\n",
      "[nltk_data]     /Users/tsegazabtesfay/nltk_data...\n",
      "[nltk_data]   Package stopwords is already up-to-date!\n",
      "[nltk_data] Downloading package punkt to\n",
      "[nltk_data]     /Users/tsegazabtesfay/nltk_data...\n",
      "[nltk_data]   Package punkt is already up-to-date!\n"
     ]
    }
   ],
   "source": [
    "import pandas as pd\n",
    "import shutil\n",
    "import random\n",
    "import os\n",
    "import tensorflow as tf\n",
    "import numpy as np\n",
    "import re\n",
    "import nltk\n",
    "nltk.download(\"stopwords\")\n",
    "nltk.download('punkt')\n",
    "import re\n",
    "from nltk.tokenize import word_tokenize\n",
    "from nltk.corpus import stopwords\n",
    "from unidecode import unidecode\n",
    "#import texthero as hero\n",
    "from nltk.stem import PorterStemmer\n",
    "from sklearn.model_selection import train_test_split\n",
    "from sklearn.feature_extraction.text import CountVectorizer\n",
    "\n",
    "from sklearn import svm\n",
    "from sklearn.linear_model import SGDClassifier\n",
    "from sklearn.tree import DecisionTreeClassifier\n",
    "from sklearn.model_selection import GridSearchCV\n",
    "from sklearn import tree\n",
    "import pickle\n",
    "\n",
    "from keras.preprocessing.image import ImageDataGenerator\n",
    "import matplotlib.pyplot as plt\n",
    "import seaborn as sns\n",
    "import matplotlib.image as mpimg\n",
    "from keras.preprocessing import image\n",
    "from keras.models import load_model\n",
    "#import sweetviz as sv\n",
    "from sklearn.compose import ColumnTransformer\n",
    "from sklearn.preprocessing import OneHotEncoder\n",
    "from sklearn.preprocessing import StandardScaler\n",
    "from sklearn.model_selection import train_test_split\n",
    "\n",
    "from sklearn.metrics import accuracy_score\n",
    "from sklearn.metrics import precision_score\n",
    "from sklearn.metrics import recall_score\n",
    "from sklearn.metrics import f1_score\n",
    "from sklearn.metrics import roc_auc_score\n",
    "from sklearn.metrics import confusion_matrix\n",
    "\n",
    "import warnings\n",
    "warnings.filterwarnings(\"ignore\")\n"
   ]
  },
  {
   "cell_type": "code",
   "execution_count": 57,
   "metadata": {},
   "outputs": [],
   "source": [
    "# from github\n",
    "file_path = \"./metadata.csv\"\n",
    "image_path = \"./covid-chestxray-dataset/images\""
   ]
  },
  {
   "cell_type": "code",
   "execution_count": 58,
   "metadata": {},
   "outputs": [],
   "source": [
    "df = pd.read_csv(file_path)"
   ]
  },
  {
   "cell_type": "code",
   "execution_count": 59,
   "metadata": {},
   "outputs": [
    {
     "data": {
      "text/plain": [
       "(950, 30)"
      ]
     },
     "execution_count": 59,
     "metadata": {},
     "output_type": "execute_result"
    }
   ],
   "source": [
    "df.shape"
   ]
  },
  {
   "cell_type": "code",
   "execution_count": 23,
   "metadata": {},
   "outputs": [
    {
     "data": {
      "text/html": [
       "<div>\n",
       "<style scoped>\n",
       "    .dataframe tbody tr th:only-of-type {\n",
       "        vertical-align: middle;\n",
       "    }\n",
       "\n",
       "    .dataframe tbody tr th {\n",
       "        vertical-align: top;\n",
       "    }\n",
       "\n",
       "    .dataframe thead th {\n",
       "        text-align: right;\n",
       "    }\n",
       "</style>\n",
       "<table border=\"1\" class=\"dataframe\">\n",
       "  <thead>\n",
       "    <tr style=\"text-align: right;\">\n",
       "      <th></th>\n",
       "      <th>patientid</th>\n",
       "      <th>offset</th>\n",
       "      <th>sex</th>\n",
       "      <th>age</th>\n",
       "      <th>finding</th>\n",
       "      <th>RT_PCR_positive</th>\n",
       "      <th>survival</th>\n",
       "      <th>intubated</th>\n",
       "      <th>intubation_present</th>\n",
       "      <th>went_icu</th>\n",
       "      <th>...</th>\n",
       "      <th>date</th>\n",
       "      <th>location</th>\n",
       "      <th>folder</th>\n",
       "      <th>filename</th>\n",
       "      <th>doi</th>\n",
       "      <th>url</th>\n",
       "      <th>license</th>\n",
       "      <th>clinical_notes</th>\n",
       "      <th>other_notes</th>\n",
       "      <th>Unnamed: 29</th>\n",
       "    </tr>\n",
       "  </thead>\n",
       "  <tbody>\n",
       "    <tr>\n",
       "      <th>0</th>\n",
       "      <td>2</td>\n",
       "      <td>0.0</td>\n",
       "      <td>M</td>\n",
       "      <td>65.0</td>\n",
       "      <td>Pneumonia/Viral/COVID-19</td>\n",
       "      <td>Y</td>\n",
       "      <td>Y</td>\n",
       "      <td>N</td>\n",
       "      <td>N</td>\n",
       "      <td>N</td>\n",
       "      <td>...</td>\n",
       "      <td>January 22, 2020</td>\n",
       "      <td>Cho Ray Hospital, Ho Chi Minh City, Vietnam</td>\n",
       "      <td>images</td>\n",
       "      <td>auntminnie-a-2020_01_28_23_51_6665_2020_01_28_...</td>\n",
       "      <td>10.1056/nejmc2001272</td>\n",
       "      <td>https://www.nejm.org/doi/full/10.1056/NEJMc200...</td>\n",
       "      <td>NaN</td>\n",
       "      <td>On January 22, 2020, a 65-year-old man with a ...</td>\n",
       "      <td>NaN</td>\n",
       "      <td>NaN</td>\n",
       "    </tr>\n",
       "    <tr>\n",
       "      <th>1</th>\n",
       "      <td>2</td>\n",
       "      <td>3.0</td>\n",
       "      <td>M</td>\n",
       "      <td>65.0</td>\n",
       "      <td>Pneumonia/Viral/COVID-19</td>\n",
       "      <td>Y</td>\n",
       "      <td>Y</td>\n",
       "      <td>N</td>\n",
       "      <td>N</td>\n",
       "      <td>N</td>\n",
       "      <td>...</td>\n",
       "      <td>January 25, 2020</td>\n",
       "      <td>Cho Ray Hospital, Ho Chi Minh City, Vietnam</td>\n",
       "      <td>images</td>\n",
       "      <td>auntminnie-b-2020_01_28_23_51_6665_2020_01_28_...</td>\n",
       "      <td>10.1056/nejmc2001272</td>\n",
       "      <td>https://www.nejm.org/doi/full/10.1056/NEJMc200...</td>\n",
       "      <td>NaN</td>\n",
       "      <td>On January 22, 2020, a 65-year-old man with a ...</td>\n",
       "      <td>NaN</td>\n",
       "      <td>NaN</td>\n",
       "    </tr>\n",
       "    <tr>\n",
       "      <th>2</th>\n",
       "      <td>2</td>\n",
       "      <td>5.0</td>\n",
       "      <td>M</td>\n",
       "      <td>65.0</td>\n",
       "      <td>Pneumonia/Viral/COVID-19</td>\n",
       "      <td>Y</td>\n",
       "      <td>Y</td>\n",
       "      <td>N</td>\n",
       "      <td>N</td>\n",
       "      <td>N</td>\n",
       "      <td>...</td>\n",
       "      <td>January 27, 2020</td>\n",
       "      <td>Cho Ray Hospital, Ho Chi Minh City, Vietnam</td>\n",
       "      <td>images</td>\n",
       "      <td>auntminnie-c-2020_01_28_23_51_6665_2020_01_28_...</td>\n",
       "      <td>10.1056/nejmc2001272</td>\n",
       "      <td>https://www.nejm.org/doi/full/10.1056/NEJMc200...</td>\n",
       "      <td>NaN</td>\n",
       "      <td>On January 22, 2020, a 65-year-old man with a ...</td>\n",
       "      <td>NaN</td>\n",
       "      <td>NaN</td>\n",
       "    </tr>\n",
       "    <tr>\n",
       "      <th>3</th>\n",
       "      <td>2</td>\n",
       "      <td>6.0</td>\n",
       "      <td>M</td>\n",
       "      <td>65.0</td>\n",
       "      <td>Pneumonia/Viral/COVID-19</td>\n",
       "      <td>Y</td>\n",
       "      <td>Y</td>\n",
       "      <td>N</td>\n",
       "      <td>N</td>\n",
       "      <td>N</td>\n",
       "      <td>...</td>\n",
       "      <td>January 28, 2020</td>\n",
       "      <td>Cho Ray Hospital, Ho Chi Minh City, Vietnam</td>\n",
       "      <td>images</td>\n",
       "      <td>auntminnie-d-2020_01_28_23_51_6665_2020_01_28_...</td>\n",
       "      <td>10.1056/nejmc2001272</td>\n",
       "      <td>https://www.nejm.org/doi/full/10.1056/NEJMc200...</td>\n",
       "      <td>NaN</td>\n",
       "      <td>On January 22, 2020, a 65-year-old man with a ...</td>\n",
       "      <td>NaN</td>\n",
       "      <td>NaN</td>\n",
       "    </tr>\n",
       "    <tr>\n",
       "      <th>4</th>\n",
       "      <td>4</td>\n",
       "      <td>0.0</td>\n",
       "      <td>F</td>\n",
       "      <td>52.0</td>\n",
       "      <td>Pneumonia/Viral/COVID-19</td>\n",
       "      <td>Y</td>\n",
       "      <td>NaN</td>\n",
       "      <td>N</td>\n",
       "      <td>N</td>\n",
       "      <td>N</td>\n",
       "      <td>...</td>\n",
       "      <td>January 25, 2020</td>\n",
       "      <td>Changhua Christian Hospital, Changhua City, Ta...</td>\n",
       "      <td>images</td>\n",
       "      <td>nejmc2001573_f1a.jpeg</td>\n",
       "      <td>10.1056/NEJMc2001573</td>\n",
       "      <td>https://www.nejm.org/doi/full/10.1056/NEJMc200...</td>\n",
       "      <td>NaN</td>\n",
       "      <td>diffuse infiltrates in the bilateral lower lungs</td>\n",
       "      <td>NaN</td>\n",
       "      <td>NaN</td>\n",
       "    </tr>\n",
       "  </tbody>\n",
       "</table>\n",
       "<p>5 rows × 30 columns</p>\n",
       "</div>"
      ],
      "text/plain": [
       "  patientid  offset sex   age                   finding RT_PCR_positive  \\\n",
       "0         2     0.0   M  65.0  Pneumonia/Viral/COVID-19               Y   \n",
       "1         2     3.0   M  65.0  Pneumonia/Viral/COVID-19               Y   \n",
       "2         2     5.0   M  65.0  Pneumonia/Viral/COVID-19               Y   \n",
       "3         2     6.0   M  65.0  Pneumonia/Viral/COVID-19               Y   \n",
       "4         4     0.0   F  52.0  Pneumonia/Viral/COVID-19               Y   \n",
       "\n",
       "  survival intubated intubation_present went_icu  ...              date  \\\n",
       "0        Y         N                  N        N  ...  January 22, 2020   \n",
       "1        Y         N                  N        N  ...  January 25, 2020   \n",
       "2        Y         N                  N        N  ...  January 27, 2020   \n",
       "3        Y         N                  N        N  ...  January 28, 2020   \n",
       "4      NaN         N                  N        N  ...  January 25, 2020   \n",
       "\n",
       "                                            location  folder  \\\n",
       "0        Cho Ray Hospital, Ho Chi Minh City, Vietnam  images   \n",
       "1        Cho Ray Hospital, Ho Chi Minh City, Vietnam  images   \n",
       "2        Cho Ray Hospital, Ho Chi Minh City, Vietnam  images   \n",
       "3        Cho Ray Hospital, Ho Chi Minh City, Vietnam  images   \n",
       "4  Changhua Christian Hospital, Changhua City, Ta...  images   \n",
       "\n",
       "                                            filename                   doi  \\\n",
       "0  auntminnie-a-2020_01_28_23_51_6665_2020_01_28_...  10.1056/nejmc2001272   \n",
       "1  auntminnie-b-2020_01_28_23_51_6665_2020_01_28_...  10.1056/nejmc2001272   \n",
       "2  auntminnie-c-2020_01_28_23_51_6665_2020_01_28_...  10.1056/nejmc2001272   \n",
       "3  auntminnie-d-2020_01_28_23_51_6665_2020_01_28_...  10.1056/nejmc2001272   \n",
       "4                              nejmc2001573_f1a.jpeg  10.1056/NEJMc2001573   \n",
       "\n",
       "                                                 url  license  \\\n",
       "0  https://www.nejm.org/doi/full/10.1056/NEJMc200...      NaN   \n",
       "1  https://www.nejm.org/doi/full/10.1056/NEJMc200...      NaN   \n",
       "2  https://www.nejm.org/doi/full/10.1056/NEJMc200...      NaN   \n",
       "3  https://www.nejm.org/doi/full/10.1056/NEJMc200...      NaN   \n",
       "4  https://www.nejm.org/doi/full/10.1056/NEJMc200...      NaN   \n",
       "\n",
       "                                      clinical_notes other_notes Unnamed: 29  \n",
       "0  On January 22, 2020, a 65-year-old man with a ...         NaN         NaN  \n",
       "1  On January 22, 2020, a 65-year-old man with a ...         NaN         NaN  \n",
       "2  On January 22, 2020, a 65-year-old man with a ...         NaN         NaN  \n",
       "3  On January 22, 2020, a 65-year-old man with a ...         NaN         NaN  \n",
       "4   diffuse infiltrates in the bilateral lower lungs         NaN         NaN  \n",
       "\n",
       "[5 rows x 30 columns]"
      ]
     },
     "execution_count": 23,
     "metadata": {},
     "output_type": "execute_result"
    }
   ],
   "source": [
    "df.head()"
   ]
  },
  {
   "cell_type": "code",
   "execution_count": 30,
   "metadata": {},
   "outputs": [
    {
     "data": {
      "text/plain": [
       "Index(['patientid', 'offset', 'sex', 'age', 'finding', 'RT_PCR_positive',\n",
       "       'survival', 'intubated', 'intubation_present', 'went_icu', 'in_icu',\n",
       "       'needed_supplemental_O2', 'extubated', 'temperature', 'pO2_saturation',\n",
       "       'leukocyte_count', 'neutrophil_count', 'lymphocyte_count', 'view',\n",
       "       'modality', 'date', 'location', 'folder', 'filename', 'doi', 'url',\n",
       "       'license', 'clinical_notes', 'other_notes', 'Unnamed: 29'],\n",
       "      dtype='object')"
      ]
     },
     "execution_count": 30,
     "metadata": {},
     "output_type": "execute_result"
    }
   ],
   "source": [
    "df.columns"
   ]
  },
  {
   "cell_type": "code",
   "execution_count": 62,
   "metadata": {},
   "outputs": [],
   "source": [
    "def importingDataGitHub():\n",
    "    index_list = []\n",
    "    for (i, row) in df.iterrows():\n",
    "        # so want to have images classified as COVID-19 and have only front view\n",
    "        if row[\"finding\"].endswith(\"COVID-19\") and row[\"view\"] == \"PA\":\n",
    "            file_name = row[\"filename\"]\n",
    "            Image_Path = os.path.join(image_path, file_name)\n",
    "            image_copy_path  = os.path.join(target_dir, file_name)\n",
    "            shutil.copy2(Image_Path, image_copy_path)\n",
    "\n",
    "            index_list.append(i)\n"
   ]
  },
  {
   "cell_type": "code",
   "execution_count": 72,
   "metadata": {},
   "outputs": [],
   "source": [
    "importingDataGitHub()"
   ]
  },
  {
   "cell_type": "code",
   "execution_count": 74,
   "metadata": {},
   "outputs": [],
   "source": [
    "# data from kaggle\n",
    "kaggle_path = \"./chest_xray/train/NORMAL\"\n",
    "target_path_dir = \"./newDataSet/nonCOVID\""
   ]
  },
  {
   "cell_type": "code",
   "execution_count": 75,
   "metadata": {},
   "outputs": [
    {
     "data": {
      "text/plain": [
       "1341"
      ]
     },
     "execution_count": 75,
     "metadata": {},
     "output_type": "execute_result"
    }
   ],
   "source": [
    "kaggle_images = os.listdir(kaggle_path)\n",
    "len(kaggle_images)"
   ]
  },
  {
   "cell_type": "code",
   "execution_count": 76,
   "metadata": {},
   "outputs": [],
   "source": [
    "# here shuffle since we just want to have 196 of them,\n",
    "# so that we get a balanced data set with the previous(COVID-19 cases)\n",
    "random.shuffle(kaggle_images)"
   ]
  },
  {
   "cell_type": "code",
   "execution_count": 67,
   "metadata": {},
   "outputs": [],
   "source": [
    "def importingDataKaggle():\n",
    "    for i in range(196):\n",
    "        im_name = kaggle_images[i]\n",
    "        im_path = os.path.join(kaggle_path, im_name)\n",
    "        targ_path = os.path.join(target_path_dir, im_name)\n",
    "        shutil.copy2(im_path, targ_path)\n",
    "    "
   ]
  },
  {
   "cell_type": "code",
   "execution_count": 77,
   "metadata": {},
   "outputs": [],
   "source": [
    "importingDataKaggle()"
   ]
  },
  {
   "cell_type": "code",
   "execution_count": 131,
   "metadata": {},
   "outputs": [],
   "source": [
    "# path of the folders which our data will plugged in\n",
    "newDataSet_COVID = \"./newDataSet/COVID\"\n",
    "newDataSet_nonCOVID = \"./newDataSet/nonCOVID\"\n",
    "\n",
    "DATAtraincovid = \"./DATA/train/covid\"\n",
    "DATAtrainnon = \"./DATA/train/non\"\n",
    "\n",
    "DATAtestcovid = \"./DATA/test/covid\"\n",
    "DATAtestnon = \"./DATA/test/non\""
   ]
  },
  {
   "cell_type": "code",
   "execution_count": 104,
   "metadata": {},
   "outputs": [],
   "source": [
    "newDataSet_COVID_ = os.listdir(newDataSet_COVID)\n",
    "newDataSet_nonCOVID_ = os.listdir(newDataSet_nonCOVID)"
   ]
  },
  {
   "cell_type": "code",
   "execution_count": 102,
   "metadata": {},
   "outputs": [
    {
     "data": {
      "text/plain": [
       "0"
      ]
     },
     "execution_count": 102,
     "metadata": {},
     "output_type": "execute_result"
    }
   ],
   "source": [
    "\n",
    "checker = 0\n",
    "# Moved 140 from \n",
    "for i in range(len(newDataSet_nonCOVID_)):\n",
    "    im = newDataSet_nonCOVID_[i]\n",
    "    im_p = os.path.join(newDataSet_nonCOVID,im)\n",
    "    t_p = os.path.join(DATAtestnon, im)\n",
    "    shutil.move(im_p, t_p)\n",
    "    #checker += 1\n",
    "checker\n",
    "     "
   ]
  },
  {
   "cell_type": "code",
   "execution_count": 132,
   "metadata": {},
   "outputs": [],
   "source": [
    "one = os.listdir(DATAtraincovid)\n",
    "two = os.listdir(DATAtrainnon)\n",
    "three = os.listdir(DATAtestcovid)\n",
    "four = os.listdir(DATAtestnon)"
   ]
  },
  {
   "cell_type": "code",
   "execution_count": 133,
   "metadata": {},
   "outputs": [
    {
     "name": "stdout",
     "output_type": "stream",
     "text": [
      "146\n",
      "147\n",
      "53\n",
      "53\n"
     ]
    }
   ],
   "source": [
    "print(len(one))\n",
    "print(len(two))\n",
    "print(len(three))\n",
    "print(len(four))"
   ]
  },
  {
   "cell_type": "code",
   "execution_count": 135,
   "metadata": {},
   "outputs": [
    {
     "name": "stdout",
     "output_type": "stream",
     "text": [
      "******************************************************************************************\n"
     ]
    }
   ],
   "source": [
    "print(\"*\"*90)"
   ]
  },
  {
   "cell_type": "markdown",
   "metadata": {
    "id": "stp_h37VK3Zp"
   },
   "source": []
  },
  {
   "cell_type": "markdown",
   "metadata": {
    "id": "ZPEHyd1_7CNh"
   },
   "source": [
    "# Mini project\n",
    "## Goal of this project\n",
    "* To get COVID-19 result from home(why? - to avoid spreading COVID-19)\n",
    "## Plan to attack this project\n",
    "\n",
    "The result is given based on these three phases\n",
    "* phase-1: model(NLP) for written text(for example, how the person feel in his/her body) input.\n",
    "* phase-2: model(ANN) for input data input like: sex, age, went_icu and temperature\n",
    "* phase-3: model(CNN) for x-ray images## Plan to attack this project\n",
    "\n",
    "The result is given based on these three phases\n",
    "* phase-1: model(NLP) for written text(for example, how the person feel in his/her body) input.\n",
    "* phase-2: model(ANN) for input data input like: sex, age, went_icu and temperature\n",
    "* phase-3: model(CNN) for x-ray images\n",
    "\n",
    "## Materials needed to fulfill the process after this project is done\n",
    "* A x-ray image (here we assume that there are mobiles which takes x-ray image)\n",
    "* Internet access## Materials needed to fulfill the process after this project is done\n",
    "* A x-ray image (here we assume that there are mobiles which takes x-ray image)\n",
    "* Internet access"
   ]
  },
  {
   "cell_type": "markdown",
   "metadata": {
    "id": "H5K-BlwYS1cx"
   },
   "source": [
    "# Importing Libraries and Data"
   ]
  },
  {
   "cell_type": "code",
   "execution_count": null,
   "metadata": {
    "id": "oHG7WZS0A5Qj"
   },
   "outputs": [],
   "source": []
  },
  {
   "cell_type": "code",
   "execution_count": 136,
   "metadata": {
    "colab": {
     "base_uri": "https://localhost:8080/"
    },
    "id": "_TeSQlinK8LA",
    "outputId": "81aaf0d9-b993-4785-df82-99ce7f86ced3"
   },
   "outputs": [
    {
     "name": "stderr",
     "output_type": "stream",
     "text": [
      "[nltk_data] Downloading package stopwords to\n",
      "[nltk_data]     /Users/tsegazabtesfay/nltk_data...\n",
      "[nltk_data]   Package stopwords is already up-to-date!\n",
      "[nltk_data] Downloading package punkt to\n",
      "[nltk_data]     /Users/tsegazabtesfay/nltk_data...\n",
      "[nltk_data]   Package punkt is already up-to-date!\n"
     ]
    }
   ],
   "source": []
  },
  {
   "cell_type": "code",
   "execution_count": null,
   "metadata": {},
   "outputs": [],
   "source": []
  },
  {
   "cell_type": "code",
   "execution_count": 50,
   "metadata": {
    "colab": {
     "base_uri": "https://localhost:8080/"
    },
    "id": "z72btFt4J7uQ",
    "outputId": "ba838dd2-f19c-49f6-d056-88f77067711b"
   },
   "outputs": [],
   "source": [
    "#from google.colab import drive\n",
    "#drive.mount('/content/gdrive')"
   ]
  },
  {
   "cell_type": "code",
   "execution_count": null,
   "metadata": {
    "id": "388zZnnDMcfS"
   },
   "outputs": [],
   "source": []
  },
  {
   "cell_type": "markdown",
   "metadata": {
    "id": "5N9vOgUHMCOF"
   },
   "source": [
    "<h1><center><u>PHASE-1</u></center></h1>"
   ]
  },
  {
   "cell_type": "markdown",
   "metadata": {
    "id": "I1msaOe6TBXS"
   },
   "source": [
    "### Importing and cleaning data"
   ]
  },
  {
   "cell_type": "code",
   "execution_count": 161,
   "metadata": {
    "id": "g5K6Mdpqlzzy"
   },
   "outputs": [],
   "source": [
    "#data = pd.read_csv(\"/content/gdrive/MyDrive/DATA/metadata.csv\")\n",
    "data = pd.read_csv(\"./metadata.csv\")"
   ]
  },
  {
   "cell_type": "code",
   "execution_count": 162,
   "metadata": {
    "colab": {
     "base_uri": "https://localhost:8080/"
    },
    "id": "DoTXSTUSMtjP",
    "outputId": "fb952610-5513-4afa-c966-6d646cf58fdd"
   },
   "outputs": [
    {
     "data": {
      "text/plain": [
       "Index(['patientid', 'offset', 'sex', 'age', 'finding', 'RT_PCR_positive',\n",
       "       'survival', 'intubated', 'intubation_present', 'went_icu', 'in_icu',\n",
       "       'needed_supplemental_O2', 'extubated', 'temperature', 'pO2_saturation',\n",
       "       'leukocyte_count', 'neutrophil_count', 'lymphocyte_count', 'view',\n",
       "       'modality', 'date', 'location', 'folder', 'filename', 'doi', 'url',\n",
       "       'license', 'clinical_notes', 'other_notes', 'Unnamed: 29'],\n",
       "      dtype='object')"
      ]
     },
     "execution_count": 162,
     "metadata": {},
     "output_type": "execute_result"
    }
   ],
   "source": [
    "data.columns"
   ]
  },
  {
   "cell_type": "code",
   "execution_count": 53,
   "metadata": {
    "id": "AxO0OiK3ma1a"
   },
   "outputs": [],
   "source": [
    "#data_report = sv.analyze(data)\n",
    "#data_report.show_notebook(layout=\"vertical\", w=880, h=700, scale=0.8)\n"
   ]
  },
  {
   "cell_type": "code",
   "execution_count": 163,
   "metadata": {
    "id": "wZzFcrjyMvEG"
   },
   "outputs": [],
   "source": [
    "data = data[[\"clinical_notes\", \"date\", \"RT_PCR_positive\"]]"
   ]
  },
  {
   "cell_type": "code",
   "execution_count": 164,
   "metadata": {
    "colab": {
     "base_uri": "https://localhost:8080/",
     "height": 204
    },
    "id": "VSUyPHb9T2pY",
    "outputId": "707d783d-48f2-4217-dc0e-ba271b14e537"
   },
   "outputs": [
    {
     "data": {
      "text/html": [
       "<div>\n",
       "<style scoped>\n",
       "    .dataframe tbody tr th:only-of-type {\n",
       "        vertical-align: middle;\n",
       "    }\n",
       "\n",
       "    .dataframe tbody tr th {\n",
       "        vertical-align: top;\n",
       "    }\n",
       "\n",
       "    .dataframe thead th {\n",
       "        text-align: right;\n",
       "    }\n",
       "</style>\n",
       "<table border=\"1\" class=\"dataframe\">\n",
       "  <thead>\n",
       "    <tr style=\"text-align: right;\">\n",
       "      <th></th>\n",
       "      <th>clinical_notes</th>\n",
       "      <th>date</th>\n",
       "      <th>RT_PCR_positive</th>\n",
       "    </tr>\n",
       "  </thead>\n",
       "  <tbody>\n",
       "    <tr>\n",
       "      <th>0</th>\n",
       "      <td>On January 22, 2020, a 65-year-old man with a ...</td>\n",
       "      <td>January 22, 2020</td>\n",
       "      <td>Y</td>\n",
       "    </tr>\n",
       "    <tr>\n",
       "      <th>1</th>\n",
       "      <td>On January 22, 2020, a 65-year-old man with a ...</td>\n",
       "      <td>January 25, 2020</td>\n",
       "      <td>Y</td>\n",
       "    </tr>\n",
       "    <tr>\n",
       "      <th>2</th>\n",
       "      <td>On January 22, 2020, a 65-year-old man with a ...</td>\n",
       "      <td>January 27, 2020</td>\n",
       "      <td>Y</td>\n",
       "    </tr>\n",
       "    <tr>\n",
       "      <th>3</th>\n",
       "      <td>On January 22, 2020, a 65-year-old man with a ...</td>\n",
       "      <td>January 28, 2020</td>\n",
       "      <td>Y</td>\n",
       "    </tr>\n",
       "    <tr>\n",
       "      <th>4</th>\n",
       "      <td>diffuse infiltrates in the bilateral lower lungs</td>\n",
       "      <td>January 25, 2020</td>\n",
       "      <td>Y</td>\n",
       "    </tr>\n",
       "  </tbody>\n",
       "</table>\n",
       "</div>"
      ],
      "text/plain": [
       "                                      clinical_notes              date  \\\n",
       "0  On January 22, 2020, a 65-year-old man with a ...  January 22, 2020   \n",
       "1  On January 22, 2020, a 65-year-old man with a ...  January 25, 2020   \n",
       "2  On January 22, 2020, a 65-year-old man with a ...  January 27, 2020   \n",
       "3  On January 22, 2020, a 65-year-old man with a ...  January 28, 2020   \n",
       "4   diffuse infiltrates in the bilateral lower lungs  January 25, 2020   \n",
       "\n",
       "  RT_PCR_positive  \n",
       "0               Y  \n",
       "1               Y  \n",
       "2               Y  \n",
       "3               Y  \n",
       "4               Y  "
      ]
     },
     "execution_count": 164,
     "metadata": {},
     "output_type": "execute_result"
    }
   ],
   "source": [
    "data.head()"
   ]
  },
  {
   "cell_type": "code",
   "execution_count": 169,
   "metadata": {
    "id": "wp3I6Pd-VXS4"
   },
   "outputs": [],
   "source": [
    "# the goal here to exclude the year before 2019\n",
    "# and take away the clinical_notes without date to avoid misleading\n",
    "for i in range(950):\n",
    "    if isinstance(data[\"date\"][i], str) and (data[\"date\"][i].endswith(\"19\") or data[\"date\"][i].endswith(\"20\") or data[\"date\"][i].endswith(\"21\")):\n",
    "        pass\n",
    "    else:\n",
    "        data = data.drop(i)"
   ]
  },
  {
   "cell_type": "code",
   "execution_count": 170,
   "metadata": {
    "id": "-RK7Wy1vgLFv"
   },
   "outputs": [],
   "source": [
    "# now we drop the date\n",
    "data  = data[[\"clinical_notes\", \"RT_PCR_positive\"]]"
   ]
  },
  {
   "cell_type": "code",
   "execution_count": 171,
   "metadata": {
    "colab": {
     "base_uri": "https://localhost:8080/",
     "height": 204
    },
    "id": "uGSKXOSVYXZj",
    "outputId": "f9fcc26f-e1ef-429b-bc3c-1635615bde06"
   },
   "outputs": [
    {
     "data": {
      "text/html": [
       "<div>\n",
       "<style scoped>\n",
       "    .dataframe tbody tr th:only-of-type {\n",
       "        vertical-align: middle;\n",
       "    }\n",
       "\n",
       "    .dataframe tbody tr th {\n",
       "        vertical-align: top;\n",
       "    }\n",
       "\n",
       "    .dataframe thead th {\n",
       "        text-align: right;\n",
       "    }\n",
       "</style>\n",
       "<table border=\"1\" class=\"dataframe\">\n",
       "  <thead>\n",
       "    <tr style=\"text-align: right;\">\n",
       "      <th></th>\n",
       "      <th>clinical_notes</th>\n",
       "      <th>RT_PCR_positive</th>\n",
       "    </tr>\n",
       "  </thead>\n",
       "  <tbody>\n",
       "    <tr>\n",
       "      <th>0</th>\n",
       "      <td>On January 22, 2020, a 65-year-old man with a ...</td>\n",
       "      <td>Y</td>\n",
       "    </tr>\n",
       "    <tr>\n",
       "      <th>1</th>\n",
       "      <td>On January 22, 2020, a 65-year-old man with a ...</td>\n",
       "      <td>Y</td>\n",
       "    </tr>\n",
       "    <tr>\n",
       "      <th>2</th>\n",
       "      <td>On January 22, 2020, a 65-year-old man with a ...</td>\n",
       "      <td>Y</td>\n",
       "    </tr>\n",
       "    <tr>\n",
       "      <th>3</th>\n",
       "      <td>On January 22, 2020, a 65-year-old man with a ...</td>\n",
       "      <td>Y</td>\n",
       "    </tr>\n",
       "    <tr>\n",
       "      <th>4</th>\n",
       "      <td>diffuse infiltrates in the bilateral lower lungs</td>\n",
       "      <td>Y</td>\n",
       "    </tr>\n",
       "  </tbody>\n",
       "</table>\n",
       "</div>"
      ],
      "text/plain": [
       "                                      clinical_notes RT_PCR_positive\n",
       "0  On January 22, 2020, a 65-year-old man with a ...               Y\n",
       "1  On January 22, 2020, a 65-year-old man with a ...               Y\n",
       "2  On January 22, 2020, a 65-year-old man with a ...               Y\n",
       "3  On January 22, 2020, a 65-year-old man with a ...               Y\n",
       "4   diffuse infiltrates in the bilateral lower lungs               Y"
      ]
     },
     "execution_count": 171,
     "metadata": {},
     "output_type": "execute_result"
    }
   ],
   "source": [
    "data.head()"
   ]
  },
  {
   "cell_type": "code",
   "execution_count": 172,
   "metadata": {
    "id": "MMiTvnM8zCYq"
   },
   "outputs": [],
   "source": [
    "# drop nan in both columns\n",
    "data = data.dropna(subset=[\"clinical_notes\"])\n",
    "data = data.dropna(subset=[\"RT_PCR_positive\"])"
   ]
  },
  {
   "cell_type": "code",
   "execution_count": 173,
   "metadata": {
    "id": "ityfJOQ_QQ_e"
   },
   "outputs": [],
   "source": [
    "#data.sort_values(\"clinical_notes\", inplace = True)\n",
    "data.drop_duplicates(subset =\"clinical_notes\", keep = False, inplace = True)"
   ]
  },
  {
   "cell_type": "code",
   "execution_count": 174,
   "metadata": {
    "id": "dMCeSpIOK_Qn"
   },
   "outputs": [],
   "source": [
    "\n",
    "def removeMeaninglesWords(x_data):\n",
    "    \"\"\"\n",
    "    Parm: a columns from data-set to be cleaned(has series type)\n",
    "    Returns: list(str)\n",
    "    \"\"\"\n",
    "    cleaned_clinical_note = []\n",
    "    # inds characters not in the range: a-zA-Z and whitespace and '\n",
    "    alphabetic = re.compile(r\"[^a-zA-Z\\s]\")\n",
    "    # finds single quotes not within a word\n",
    "    singlequote = re.compile(r\"((\\W)(?:\\B|$)|(?:^|\\B)(\\W))\")\n",
    "    stop_words = stopwords.words('english')\n",
    "    for text in x_data:\n",
    "        new_words = []\n",
    "        text = unidecode(text) # example: ã'bç becomes abc\n",
    "        text = re.sub(alphabetic, \" \", text) #example: 2\"3can't\"/ becomes can't\n",
    "        text = re.sub(singlequote, \" \", text) #''' shouldn't '''''' becomes shouldn't\n",
    "        words = text.lower().split()\n",
    "        for word in words:\n",
    "            if (not (word in stop_words) and (word.strip()) and len(word)>1):\n",
    "                new_words.append(word)\n",
    "            else:\n",
    "                continue\n",
    "        cleaned_clinical_note.append(\" \".join(new_words))\n",
    "    return cleaned_clinical_note\n"
   ]
  },
  {
   "cell_type": "code",
   "execution_count": 175,
   "metadata": {
    "id": "k27fToZNSPC9"
   },
   "outputs": [],
   "source": [
    "cleaned_data =  removeMeaninglesWords(data[\"clinical_notes\"])"
   ]
  },
  {
   "cell_type": "code",
   "execution_count": 176,
   "metadata": {
    "colab": {
     "base_uri": "https://localhost:8080/"
    },
    "id": "wxvql-OPSPeI",
    "outputId": "b37c8ca9-59d2-4e67-9bc9-aa14ae21ad1b"
   },
   "outputs": [
    {
     "name": "stdout",
     "output_type": "stream",
     "text": [
      "****************************************************************************************************\n",
      "Original words:  18500\n",
      "Without stopwords & alnum:  12260\n",
      "Difference :  6240\n"
     ]
    }
   ],
   "source": [
    "# to show us the difference b/n the orginal and the new on \n",
    "def countDifference():\n",
    "    sum_orginal = 0\n",
    "    sum_cleaned = 0\n",
    "    for i in range(len(data)):\n",
    "        sum_orginal += len(data[\"clinical_notes\"].iloc[i].split(\" \"))\n",
    "        sum_cleaned += len(cleaned_data[i].split(\" \"))\n",
    "    print(\"*\"*100)\n",
    "    print(\"Original words: \", sum_orginal)\n",
    "    print(\"Without stopwords & alnum: \", sum_cleaned)\n",
    "    print(\"Difference : \", sum_orginal - sum_cleaned)\n",
    "countDifference()"
   ]
  },
  {
   "cell_type": "code",
   "execution_count": 180,
   "metadata": {
    "colab": {
     "base_uri": "https://localhost:8080/",
     "height": 575
    },
    "id": "y-vRHEChSNrz",
    "outputId": "4464cee6-4611-44ab-a968-a05065c17bbe"
   },
   "outputs": [],
   "source": [
    "# visualizing uncleaned data(where max appearance is 30)\n",
    "#hero.visualization.wordcloud(data[\"clinical_notes\"], max_words=30,background_color=\"black\")"
   ]
  },
  {
   "cell_type": "code",
   "execution_count": 181,
   "metadata": {
    "colab": {
     "base_uri": "https://localhost:8080/",
     "height": 575
    },
    "id": "mMQnkFGTSNvZ",
    "outputId": "6c63c933-21da-475c-a11a-8d9cff938a14"
   },
   "outputs": [],
   "source": [
    "# visualizing cleaned data\n",
    "#hero.visualization.wordcloud(pd.Series(cleaned_data), max_words=30,background_color=\"brown\")"
   ]
  },
  {
   "cell_type": "code",
   "execution_count": 190,
   "metadata": {
    "id": "oogaD9eyDGNx"
   },
   "outputs": [],
   "source": [
    "def stemmingNotes(data):\n",
    "    \"\"\"\n",
    "    Parm: list(str)\n",
    "    Returns: list(str) after stemming\n",
    "    \"\"\"\n",
    "    cleaned_notes = []\n",
    "    porter = PorterStemmer() # Using the default nltk Porter Stemmer for text normalization\n",
    "    for text in data:\n",
    "        token_words = word_tokenize(text)\n",
    "        stem_sentence = []\n",
    "        for word in token_words:\n",
    "            stem_sentence.append(porter.stem(word))\n",
    "        cleaned_notes.append(\" \".join(stem_sentence))\n",
    "    return cleaned_notes\n"
   ]
  },
  {
   "cell_type": "code",
   "execution_count": 191,
   "metadata": {
    "id": "mgt-9iP0nYEQ"
   },
   "outputs": [],
   "source": [
    "final_notes = stemmingNotes(cleaned_data)"
   ]
  },
  {
   "cell_type": "code",
   "execution_count": 192,
   "metadata": {
    "id": "OsaqaLHanYPm"
   },
   "outputs": [],
   "source": [
    "data[\"clinical_notes\"][:] = final_notes[:]"
   ]
  },
  {
   "cell_type": "code",
   "execution_count": 193,
   "metadata": {
    "colab": {
     "base_uri": "https://localhost:8080/",
     "height": 35
    },
    "id": "0W34VZ7YgKV6",
    "outputId": "a403a29e-9b68-4665-904f-44572616544d"
   },
   "outputs": [
    {
     "data": {
      "text/plain": [
       "'Unclear'"
      ]
     },
     "execution_count": 193,
     "metadata": {},
     "output_type": "execute_result"
    }
   ],
   "source": [
    "# test\n",
    "data[\"RT_PCR_positive\"][936]"
   ]
  },
  {
   "cell_type": "markdown",
   "metadata": {
    "id": "mF4wr-Jxygx9"
   },
   "source": [
    "### Data preparation"
   ]
  },
  {
   "cell_type": "code",
   "execution_count": 194,
   "metadata": {
    "id": "PstRE7AA5b_G"
   },
   "outputs": [],
   "source": [
    "class CovidResult:\n",
    "    POSITIVE = \"POSITIVE\"\n",
    "    UNCLEAR_ = \"UNCLEAR_\"\n",
    "\n",
    "class Notes:\n",
    "    def __init__(self, clinical_notes, rt_pcr):\n",
    "        self.clinical_notes = clinical_notes\n",
    "        self.rt_pcr = rt_pcr\n",
    "        self.result = self.get_result()\n",
    "    \n",
    "    def get_result(self):\n",
    "        if self.rt_pcr == \"Y\":\n",
    "            return CovidResult.POSITIVE\n",
    "        elif self.rt_pcr == \"Unclear\":\n",
    "            return CovidResult.UNCLEAR_"
   ]
  },
  {
   "cell_type": "code",
   "execution_count": 195,
   "metadata": {
    "colab": {
     "base_uri": "https://localhost:8080/",
     "height": 35
    },
    "id": "mxjHH9NLvN-7",
    "outputId": "8a17c58d-95e2-49d5-fe2e-73575707e4a2"
   },
   "outputs": [
    {
     "data": {
      "text/plain": [
       "'POSITIVE'"
      ]
     },
     "execution_count": 195,
     "metadata": {},
     "output_type": "execute_result"
    }
   ],
   "source": [
    "allData = []\n",
    "for i in range(len(data)):\n",
    "    allData.append(Notes(data[\"clinical_notes\"].iloc[i], data[\"RT_PCR_positive\"].iloc[i]))\n",
    "allData[15].result # checking\n"
   ]
  },
  {
   "cell_type": "code",
   "execution_count": 196,
   "metadata": {
    "id": "ykE0ptJCvODD"
   },
   "outputs": [],
   "source": [
    "training, test = train_test_split(allData, test_size = 0.2, random_state=42)"
   ]
  },
  {
   "cell_type": "code",
   "execution_count": 197,
   "metadata": {
    "id": "cev2u9JkvOFl"
   },
   "outputs": [],
   "source": [
    "train_x = [x.clinical_notes for x in training]\n",
    "train_y = [x.result for x in training]\n",
    "test_x = [x.clinical_notes for x in test]\n",
    "test_y = [x.result for x in test]"
   ]
  },
  {
   "cell_type": "code",
   "execution_count": 199,
   "metadata": {
    "id": "6PuAM2zB0am4"
   },
   "outputs": [],
   "source": [
    "vectorizer = CountVectorizer()\n",
    "train_x_vector = vectorizer.fit_transform(train_x)\n",
    "test_x_vector = vectorizer.transform(test_x)"
   ]
  },
  {
   "cell_type": "markdown",
   "metadata": {
    "id": "x_RZhqvCEVdt"
   },
   "source": [
    "### Classifications\n",
    "* testing different classifier\n",
    "#### Evaluation\n",
    "* see mean accuracy score\n",
    "* see f1_score\n",
    "* tuning our models\n",
    "* chose the best model"
   ]
  },
  {
   "cell_type": "code",
   "execution_count": 282,
   "metadata": {
    "colab": {
     "base_uri": "https://localhost:8080/"
    },
    "id": "YrDjBxw00avn",
    "outputId": "dd3d38b7-c211-4cbe-8a0c-3ee767e78c1b"
   },
   "outputs": [
    {
     "name": "stdout",
     "output_type": "stream",
     "text": [
      "Mean accuracy for SGDClassifier() is 0.72.\n",
      "F1 score:  [0.82051282 0.36363636]\n",
      "Precision_score:  [0.7804878  0.44444444]\n",
      "Recall_score:  [0.86486486 0.30769231]\n"
     ]
    },
    {
     "data": {
      "image/png": "[encoded data removed]",
      "text/plain": [
       "<Figure size 432x288 with 2 Axes>"
      ]
     },
     "metadata": {
      "needs_background": "light"
     },
     "output_type": "display_data"
    },
    {
     "name": "stdout",
     "output_type": "stream",
     "text": [
      "********************************************************************************\n",
      "Mean accuracy for SVC(kernel='linear') is 0.76.\n",
      "F1 score:  [0.84615385 0.45454545]\n",
      "Precision_score:  [0.80487805 0.55555556]\n",
      "Recall_score:  [0.89189189 0.38461538]\n"
     ]
    },
    {
     "data": {
      "image/png": "[encoded data removed]",
      "text/plain": [
       "<Figure size 432x288 with 2 Axes>"
      ]
     },
     "metadata": {
      "needs_background": "light"
     },
     "output_type": "display_data"
    },
    {
     "name": "stdout",
     "output_type": "stream",
     "text": [
      "********************************************************************************\n",
      "Mean accuracy for DecisionTreeClassifier() is 0.72.\n",
      "F1 score:  [0.80555556 0.5       ]\n",
      "Precision_score:  [0.82857143 0.46666667]\n",
      "Recall_score:  [0.78378378 0.53846154]\n"
     ]
    },
    {
     "data": {
      "image/png": "[encoded data removed]",
      "text/plain": [
       "<Figure size 432x288 with 2 Axes>"
      ]
     },
     "metadata": {
      "needs_background": "light"
     },
     "output_type": "display_data"
    },
    {
     "name": "stdout",
     "output_type": "stream",
     "text": [
      "********************************************************************************\n"
     ]
    }
   ],
   "source": [
    "clf_sgd = SGDClassifier() # Stochastic gradient descent\n",
    "clf_svm = svm.SVC(kernel=\"linear\") # Linear svm\n",
    "cls_dec = DecisionTreeClassifier() # Decision tree\n",
    "\n",
    "# training and evaluation\n",
    "classifier = [clf_sgd, clf_svm,cls_dec]\n",
    "def threeClassifiers(listclassifier):\n",
    "    for i in listclassifier:\n",
    "        i.fit(train_x_vector, train_y)\n",
    "        print(\"Mean accuracy for %s is %s.\"%(i, i.score(test_x_vector, test_y)))\n",
    "        print(\"F1 score: \",f1_score(test_y, i.predict(test_x_vector), average=None, labels=[CovidResult.POSITIVE, CovidResult.UNCLEAR_]))\n",
    "        print(\"Precision_score: \",precision_score(test_y, i.predict(test_x_vector), average=None, labels=[CovidResult.POSITIVE, CovidResult.UNCLEAR_]))\n",
    "        print(\"Recall_score: \",recall_score(test_y, i.predict(test_x_vector), average=None, labels=[CovidResult.POSITIVE, CovidResult.UNCLEAR_]))\n",
    "        y_pred = i.predict(test_x_vector)\n",
    "        labels = [CovidResult.POSITIVE, CovidResult.UNCLEAR_]\n",
    "        cm = confusion_matrix(test_y, y_pred, labels=labels)\n",
    "        df_cm = pd.DataFrame(cm, index=labels, columns=labels)\n",
    "        sns.heatmap(df_cm, annot=True, fmt='d')\n",
    "        ax = plt.axes()\n",
    "        ax.set_title(\"Confusion matrix of %s \"%(i))\n",
    "        plt.show()\n",
    "\n",
    "        print(\"*\"*80)\n",
    "threeClassifiers(classifier)"
   ]
  },
  {
   "cell_type": "code",
   "execution_count": 280,
   "metadata": {
    "colab": {
     "base_uri": "https://localhost:8080/"
    },
    "id": "XMOlx8EB0ayd",
    "outputId": "cff0f1df-90ae-49a5-efc0-0a8d1f632cb9"
   },
   "outputs": [
    {
     "name": "stdout",
     "output_type": "stream",
     "text": [
      "['POSITIVE']\n",
      "['UNCLEAR_']\n",
      "['POSITIVE']\n"
     ]
    }
   ],
   "source": [
    "# testing a single for both classifiers\n",
    "print(clf_sgd.predict(test_x_vector[0]))\n",
    "print(clf_svm.predict(test_x_vector[0]))\n",
    "print(cls_dec.predict(test_x_vector[0]))\n"
   ]
  },
  {
   "cell_type": "code",
   "execution_count": 281,
   "metadata": {
    "colab": {
     "base_uri": "https://localhost:8080/"
    },
    "id": "AtY70q5qMh1l",
    "outputId": "7896b836-493b-4aaa-d79b-09caa75fe401"
   },
   "outputs": [
    {
     "name": "stdout",
     "output_type": "stream",
     "text": [
      "53 13\n",
      "145 37\n"
     ]
    }
   ],
   "source": [
    "print(train_y.count(CovidResult.UNCLEAR_), test_y.count(CovidResult.UNCLEAR_))\n",
    "print(train_y.count(CovidResult.POSITIVE), test_y.count(CovidResult.POSITIVE))"
   ]
  },
  {
   "cell_type": "markdown",
   "metadata": {
    "id": "eulzy5-tZ4Tg"
   },
   "source": [
    "#### Saving best classifier"
   ]
  },
  {
   "cell_type": "code",
   "execution_count": 284,
   "metadata": {
    "id": "FldKctedZ8hR"
   },
   "outputs": [],
   "source": [
    "import pickle\n",
    "\n",
    "with open('./NLP_MODEL.pkl', 'wb') as f:\n",
    "    pickle.dump(clf_svm, f)\n",
    "    \n",
    "with open('./vectorizer_nlp.pkl', 'wb') as f:\n",
    "    pickle.dump(vectorizer, f)\n",
    "\n",
    "    \n",
    "#-__________________________^______________________to load our model_________\n",
    "#with open('./NLP_MODEL.pkl', 'rb') as f:\n",
    "#    clf = pickle.load(f)\n",
    "\n",
    "#with open('./vectorizer_nlp.pkl', 'rb') as f:\n",
    "#    vectorizer = pickle.load(f)\n",
    "\n",
    "    \n",
    "#test_set = ['very quick speeds', \"loved the necklace\", 'bad']\n",
    "#new_test = vectorizer.transform(test_set)\n",
    "\n",
    "#clf.predict(new_test)"
   ]
  },
  {
   "cell_type": "code",
   "execution_count": null,
   "metadata": {
    "id": "5nD_JEzNaAu4"
   },
   "outputs": [],
   "source": []
  },
  {
   "cell_type": "markdown",
   "metadata": {
    "id": "YgwHxsbmlOg5"
   },
   "source": [
    "<h1><center><u>PHASE-2 and PHASE-3</u></center></h1>"
   ]
  },
  {
   "cell_type": "code",
   "execution_count": 3,
   "metadata": {
    "id": "GXJpkTAmlPT_"
   },
   "outputs": [],
   "source": [
    "#data = pd.read_csv(\"/content/gdrive/MyDrive/DATA/metadata.csv\") # We we worked on google colab\n",
    "data = pd.read_csv(\"./metadata.csv\")"
   ]
  },
  {
   "cell_type": "code",
   "execution_count": 4,
   "metadata": {},
   "outputs": [
    {
     "data": {
      "text/plain": [
       "(950, 30)"
      ]
     },
     "execution_count": 4,
     "metadata": {},
     "output_type": "execute_result"
    }
   ],
   "source": [
    "data.shape"
   ]
  },
  {
   "cell_type": "code",
   "execution_count": 5,
   "metadata": {
    "colab": {
     "base_uri": "https://localhost:8080/"
    },
    "id": "z_9WchTgtdYE",
    "outputId": "c3add0f2-21ef-44be-ca67-547dc34abe19"
   },
   "outputs": [
    {
     "data": {
      "text/plain": [
       "Index(['patientid', 'offset', 'sex', 'age', 'finding', 'RT_PCR_positive',\n",
       "       'survival', 'intubated', 'intubation_present', 'went_icu', 'in_icu',\n",
       "       'needed_supplemental_O2', 'extubated', 'temperature', 'pO2_saturation',\n",
       "       'leukocyte_count', 'neutrophil_count', 'lymphocyte_count', 'view',\n",
       "       'modality', 'date', 'location', 'folder', 'filename', 'doi', 'url',\n",
       "       'license', 'clinical_notes', 'other_notes', 'Unnamed: 29'],\n",
       "      dtype='object')"
      ]
     },
     "execution_count": 5,
     "metadata": {},
     "output_type": "execute_result"
    }
   ],
   "source": [
    "data.columns"
   ]
  },
  {
   "cell_type": "code",
   "execution_count": 8,
   "metadata": {},
   "outputs": [
    {
     "data": {
      "image/png": "[encoded data removed]",
      "text/plain": [
       "<Figure size 1080x720 with 2 Axes>"
      ]
     },
     "metadata": {
      "needs_background": "light"
     },
     "output_type": "display_data"
    }
   ],
   "source": [
    "# see the the correlation among our data\n",
    "corrmat = data.corr()\n",
    "top_corr_features = corrmat.index\n",
    "plt.figure(figsize=(15,10))\n",
    "g = sns.heatmap(data[top_corr_features].corr(),annot=True,cmap=\"RdYlGn\")\n"
   ]
  },
  {
   "cell_type": "code",
   "execution_count": 9,
   "metadata": {
    "id": "YbCawbFWtfmU"
   },
   "outputs": [],
   "source": [
    "class dataProcessing:\n",
    "    \n",
    "    def imageProcessing(self, train_location, test_location):\n",
    "                \n",
    "        train_datagen = ImageDataGenerator(rescale = 1./255,\n",
    "                                      shear_range = 0.2,\n",
    "                                      zoom_range = 0.2,\n",
    "                                      horizontal_flip = True)\n",
    "        test_datagen = ImageDataGenerator(rescale = 1./255)\n",
    "        \n",
    "        training_set = train_datagen.flow_from_directory(train_location,\n",
    "                                                        target_size = (64, 64),\n",
    "                                                        batch_size = 32,\n",
    "                                                        class_mode = \"binary\")\n",
    "        test_set = test_datagen.flow_from_directory(test_location,\n",
    "                                           target_size = (64, 64),\n",
    "                                           batch_size = 32,\n",
    "                                           class_mode = \"binary\")\n",
    "        print(training_set.class_indices)\n",
    "        return training_set, test_set  \n",
    "    \n",
    "    def dataCleanerForAnn(self, data): # this is only for our case\n",
    "        df1 = data[[\"sex\", \"age\", \"went_icu\", \"temperature\", \"RT_PCR_positive\"]]\n",
    "        df1[\"sex\"] = pd.get_dummies(df1[\"sex\"], drop_first=True)\n",
    "        df1[\"went_icu\"] = pd.get_dummies(df1[\"went_icu\"], drop_first=True)\n",
    "        df1[\"RT_PCR_positive\"] = pd.get_dummies(df1[\"RT_PCR_positive\"], drop_first=True)\n",
    "\n",
    "        df1[\"temperature\"].fillna(df1[\"temperature\"].mean(), inplace=True)\n",
    "        df1[\"age\"].fillna(df1[\"age\"].mean(), inplace=True)\n",
    "        return df1\n",
    "    \n",
    "    def splittingAndScaling(self, datapath):\n",
    "        data = pd.read_csv(datapath)\n",
    "        arrangedData  = self.dataCleanerForAnn(data)\n",
    "        X = arrangedData.iloc[:, :-1].values\n",
    "        y = arrangedData.iloc[: ,-1].values \n",
    "        \n",
    "        X_train, X_test, y_train, y_test = train_test_split(X, y, test_size = 0.2 , random_state = 0)\n",
    "        sc = StandardScaler()\n",
    "        X_train = sc.fit_transform(X_train)\n",
    "        X_test = sc.transform(X_test)\n",
    "        \n",
    "        \n",
    "        return X_train, X_test, y_train, y_test"
   ]
  },
  {
   "cell_type": "code",
   "execution_count": 17,
   "metadata": {
    "id": "hlobIsTjtoBc"
   },
   "outputs": [],
   "source": [
    "class buildModel:\n",
    "    \n",
    "    def annModel(self, X_train, y_train):\n",
    "        \n",
    "        ann = tf.keras.models.Sequential()\n",
    "        ann.add(tf.keras.layers.Dense(units=6, activation='relu'))\n",
    "        ann.add(tf.keras.layers.Dense(units=6, activation='relu'))\n",
    "        ann.add(tf.keras.layers.Dense(units=1, activation='sigmoid'))\n",
    "        ann.compile(optimizer = 'adam', loss = 'binary_crossentropy', metrics = ['accuracy', tf.keras.metrics.AUC()])\n",
    "        ann.fit(X_train, y_train, batch_size = 32, epochs = 30, verbose=2)\n",
    "        #sketchHistory(ann.fit(X_train, y_train, batch_size = 32, epochs = 30, verbose=2))\n",
    "        return ann\n",
    "        \n",
    "    def cnnModel(self, train, test):\n",
    "    \n",
    "        cnn = tf.keras.models.Sequential()\n",
    "        cnn.add(tf.keras.layers.Conv2D(filters=32, kernel_size=3, activation='relu', input_shape=[64, 64, 3]))\n",
    "        cnn.add(tf.keras.layers.MaxPool2D(pool_size=2, strides=2))\n",
    "        cnn.add(tf.keras.layers.Conv2D(filters=32, kernel_size=3, activation='relu'))\n",
    "        cnn.add(tf.keras.layers.MaxPool2D(pool_size=2, strides=2))\n",
    "        cnn.add(tf.keras.layers.Flatten())\n",
    "        cnn.add(tf.keras.layers.Dense(units=128, activation='relu'))\n",
    "        cnn.add(tf.keras.layers.Dense(units=1, activation='sigmoid'))\n",
    "        cnn.compile(optimizer = 'adam', loss = 'binary_crossentropy', metrics = ['accuracy', tf.keras.metrics.AUC()])\n",
    "        cnn.fit(x = train, validation_data = test, epochs = 30, verbose=2)\n",
    "        #sketchHistory(cnn.fit(x = train, validation_data = test, epochs = 30, verbose=2))\n",
    "        return cnn\n",
    "    "
   ]
  },
  {
   "cell_type": "code",
   "execution_count": 11,
   "metadata": {},
   "outputs": [],
   "source": [
    "def sketchHistory(x):\n",
    "    plt.plot(x.history['accuracy'])\n",
    "    plt.title(\"Accuracy\")\n",
    "    plt.ylabel(\"accuracy in percent\")\n",
    "    plt.xlabel(\"epochs\")\n",
    "    plt.grid()\n",
    "    plt.show()\n",
    "    "
   ]
  },
  {
   "cell_type": "code",
   "execution_count": 12,
   "metadata": {
    "id": "ExQnk3lBtuDk"
   },
   "outputs": [],
   "source": [
    "def predicter(im):\n",
    "    #train_location = \"/content/gdrive/MyDrive/DATA/train\" # for google colab\n",
    "    #test_location = \"/content/gdrive/MyDrive/DATA/test\"   # for google colab\n",
    "    \n",
    "    train_location = \"./DATA/train\"\n",
    "    test_location = \"./DATA/test\"\n",
    "    \n",
    "    DP = dataProcessing()\n",
    "    bM = buildModel()\n",
    "    train, test  = DP.imageProcessing(train_location, test_location)\n",
    "    cnn = bM.cnnModel(train, test)\n",
    "    \n",
    "    \n",
    "    test_image = image.load_img(im, target_size = (64, 64))\n",
    "    test_image = image.img_to_array(test_image)\n",
    "    test_image = np.expand_dims(test_image, axis = 0)\n",
    "    result = cnn.predict(test_image) # cnn == the saved model\n",
    "    \n",
    "    if result[0][0] <= 0.1: # test for the probabilites is less than 10%\n",
    "        prediction = 'NON-COVID'\n",
    "    else:\n",
    "        prediction = 'COVID-19'\n",
    "\n",
    "    #print(prediction)\n",
    "    return prediction\n",
    "    \n",
    "    "
   ]
  },
  {
   "cell_type": "code",
   "execution_count": 13,
   "metadata": {
    "id": "d773bimNuNu7"
   },
   "outputs": [],
   "source": [
    "def testSingleImagePrediction():\n",
    "    import matplotlib.pyplot as plt\n",
    "    import matplotlib.image as mpimg\n",
    "    \n",
    "    #test_covid = \"/content/gdrive/MyDrive/DATA/test/covid/\"\n",
    "    #test_non_covid = \"/content/gdrive/MyDrive/DATA/test/non/\"\n",
    "    test_covid = \"./DATA/test/covid/\"\n",
    "    test_non_covid = \"./DATA/test/non/\"\n",
    "\n",
    "    Covid_in_test = [i for i in os.listdir(test_covid)]\n",
    "    nonCovid_in_test = [i for i in os.listdir(test_non_covid)]\n",
    "    \n",
    "    test1 = test_covid + random.choice(Covid_in_test)\n",
    "    test2 = test_non_covid + random.choice(nonCovid_in_test)\n",
    "    \n",
    "    imageCovid = mpimg.imread(test1)\n",
    "    \n",
    "    plt.imshow(imageCovid)\n",
    "    plt.title(\"True image-1 of Covid\")\n",
    "    plt.show()\n",
    "    \n",
    "    imageNonCovid = mpimg.imread(test2)\n",
    "    plt.imshow(imageNonCovid)\n",
    "    plt.title(\"True image:2 of Non-Covid\")\n",
    "    plt.show()\n",
    "    \n",
    "    return (\"Result of image-1 is: %s. Result of image-2 is: %s.\" %(predicter(test1), predicter(test2)) )\n",
    "    "
   ]
  },
  {
   "cell_type": "code",
   "execution_count": 154,
   "metadata": {
    "colab": {
     "base_uri": "https://localhost:8080/",
     "height": 903
    },
    "id": "1O1GZ_vsufjp",
    "outputId": "de229c9f-2697-4ddd-bd85-272debc9333e"
   },
   "outputs": [
    {
     "data": {
      "image/png": "[encoded data removed]",
      "text/plain": [
       "<Figure size 432x288 with 1 Axes>"
      ]
     },
     "metadata": {
      "needs_background": "light"
     },
     "output_type": "display_data"
    },
    {
     "data": {
      "image/png": "[encoded data removed]",
      "text/plain": [
       "<Figure size 432x288 with 1 Axes>"
      ]
     },
     "metadata": {
      "needs_background": "light"
     },
     "output_type": "display_data"
    },
    {
     "name": "stdout",
     "output_type": "stream",
     "text": [
      "Found 292 images belonging to 2 classes.\n",
      "Found 113 images belonging to 2 classes.\n",
      "{'covid': 0, 'non': 1}\n",
      "Epoch 1/2\n",
      "10/10 [==============================] - 14s 1s/step - loss: 0.7075 - accuracy: 0.5674 - val_loss: 0.5763 - val_accuracy: 0.6283\n",
      "Epoch 2/2\n",
      "10/10 [==============================] - 12s 1s/step - loss: 0.5473 - accuracy: 0.7460 - val_loss: 0.3715 - val_accuracy: 0.9115\n",
      "Result with less than 0.5:  COVID-19\n",
      "WARNING:tensorflow:5 out of the last 5 calls to <function Model.make_predict_function.<locals>.predict_function at 0x7fd4d8aed0d0> triggered tf.function retracing. Tracing is expensive and the excessive number of tracings could be due to (1) creating @tf.function repeatedly in a loop, (2) passing tensors with different shapes, (3) passing Python objects instead of tensors. For (1), please define your @tf.function outside of the loop. For (2), @tf.function has experimental_relax_shapes=True option that relaxes argument shapes that can avoid unnecessary retracing. For (3), please refer to https://www.tensorflow.org/guide/function#controlling_retracing and https://www.tensorflow.org/api_docs/python/tf/function for  more details.\n",
      "Found 292 images belonging to 2 classes.\n",
      "Found 113 images belonging to 2 classes.\n",
      "{'covid': 0, 'non': 1}\n",
      "Epoch 1/2\n",
      "10/10 [==============================] - 17s 2s/step - loss: 0.6618 - accuracy: 0.5942 - val_loss: 0.3744 - val_accuracy: 0.9292\n",
      "Epoch 2/2\n",
      "10/10 [==============================] - 12s 1s/step - loss: 0.3878 - accuracy: 0.8758 - val_loss: 0.2368 - val_accuracy: 0.9558\n",
      "WARNING:tensorflow:6 out of the last 6 calls to <function Model.make_predict_function.<locals>.predict_function at 0x7fd4da9d8b80> triggered tf.function retracing. Tracing is expensive and the excessive number of tracings could be due to (1) creating @tf.function repeatedly in a loop, (2) passing tensors with different shapes, (3) passing Python objects instead of tensors. For (1), please define your @tf.function outside of the loop. For (2), @tf.function has experimental_relax_shapes=True option that relaxes argument shapes that can avoid unnecessary retracing. For (3), please refer to https://www.tensorflow.org/guide/function#controlling_retracing and https://www.tensorflow.org/api_docs/python/tf/function for  more details.\n",
      "Result with less than 0.5:  COVID-19\n",
      "WARNING:tensorflow:7 out of the last 7 calls to <function Model.make_predict_function.<locals>.predict_function at 0x7fd4da9d8b80> triggered tf.function retracing. Tracing is expensive and the excessive number of tracings could be due to (1) creating @tf.function repeatedly in a loop, (2) passing tensors with different shapes, (3) passing Python objects instead of tensors. For (1), please define your @tf.function outside of the loop. For (2), @tf.function has experimental_relax_shapes=True option that relaxes argument shapes that can avoid unnecessary retracing. For (3), please refer to https://www.tensorflow.org/guide/function#controlling_retracing and https://www.tensorflow.org/api_docs/python/tf/function for  more details.\n"
     ]
    },
    {
     "data": {
      "text/plain": [
       "'Result of image-1 is: NON-COVID. Result of image-2 is: COVID-19.'"
      ]
     },
     "execution_count": 154,
     "metadata": {},
     "output_type": "execute_result"
    }
   ],
   "source": [
    "testSingleImagePrediction()"
   ]
  },
  {
   "cell_type": "code",
   "execution_count": 18,
   "metadata": {
    "id": "3XlEemK-ujRR"
   },
   "outputs": [],
   "source": [
    "def saveModel():\n",
    "    # datapath\n",
    "    #train_location = \"/content/gdrive/MyDrive/DATA/train\" \n",
    "    #test_location = \"/content/gdrive/MyDrive/DATA/test\"\n",
    "    #metaData = \"/content/gdrive/MyDrive/DATA/metadata.csv\"\n",
    "    \n",
    "    train_location = \"./DATA/train\" \n",
    "    test_location = \"./DATA/test\"\n",
    "    metaData = \"./metadata.csv\"\n",
    "    \n",
    "    #classes\n",
    "    DP = dataProcessing()\n",
    "    models = buildModel()\n",
    "    \n",
    "    train, test  = DP.imageProcessing(train_location, test_location)\n",
    "    X_train, X_test, y_train, y_test = DP.splittingAndScaling(metaData)\n",
    "    \n",
    "    print(\"CNN starts: \\n\")\n",
    "    cnnModel = models.cnnModel(train, test)\n",
    "    #cnnModel.summary()\n",
    "    print(\"ANN starts: \\n\")\n",
    "    annModel = models.annModel(X_train, y_train)\n",
    "    \n",
    "    cnnModel.save(\"CNN.h5\")    \n",
    "    annModel.save('ANN_MODEL.h5')\n",
    "\n",
    "    "
   ]
  },
  {
   "cell_type": "code",
   "execution_count": 93,
   "metadata": {
    "id": "4AO9juyN3KdI"
   },
   "outputs": [],
   "source": [
    "def NoneReturner():\n",
    "    print(\"default\")"
   ]
  },
  {
   "cell_type": "code",
   "execution_count": 19,
   "metadata": {
    "colab": {
     "base_uri": "https://localhost:8080/"
    },
    "id": "w9KWlkaZ3UBw",
    "outputId": "fbb00256-e94b-4949-94fe-52e02e659b2c"
   },
   "outputs": [
    {
     "name": "stdout",
     "output_type": "stream",
     "text": [
      "Found 292 images belonging to 2 classes.\n",
      "Found 113 images belonging to 2 classes.\n",
      "{'covid': 0, 'non': 1}\n",
      "CNN starts: \n",
      "\n",
      "Epoch 1/30\n",
      "10/10 - 14s - loss: 0.7039 - accuracy: 0.5479 - auc_1: 0.5972 - val_loss: 0.6044 - val_accuracy: 0.6460 - val_auc_1: 0.9666\n",
      "Epoch 2/30\n",
      "10/10 - 13s - loss: 0.5219 - accuracy: 0.9041 - auc_1: 0.9526 - val_loss: 0.3224 - val_accuracy: 0.9646 - val_auc_1: 0.9679\n",
      "Epoch 3/30\n",
      "10/10 - 12s - loss: 0.3135 - accuracy: 0.9110 - auc_1: 0.9564 - val_loss: 0.1962 - val_accuracy: 0.9558 - val_auc_1: 0.9614\n",
      "Epoch 4/30\n",
      "10/10 - 12s - loss: 0.2787 - accuracy: 0.9007 - auc_1: 0.9543 - val_loss: 0.1876 - val_accuracy: 0.9646 - val_auc_1: 0.9597\n",
      "Epoch 5/30\n",
      "10/10 - 12s - loss: 0.2163 - accuracy: 0.9521 - auc_1: 0.9711 - val_loss: 0.1808 - val_accuracy: 0.9646 - val_auc_1: 0.9592\n",
      "Epoch 6/30\n",
      "10/10 - 12s - loss: 0.1922 - accuracy: 0.9486 - auc_1: 0.9725 - val_loss: 0.1790 - val_accuracy: 0.9646 - val_auc_1: 0.9644\n",
      "Epoch 7/30\n",
      "10/10 - 12s - loss: 0.1825 - accuracy: 0.9486 - auc_1: 0.9742 - val_loss: 0.1662 - val_accuracy: 0.9646 - val_auc_1: 0.9666\n",
      "Epoch 8/30\n",
      "10/10 - 12s - loss: 0.1238 - accuracy: 0.9795 - auc_1: 0.9848 - val_loss: 0.1796 - val_accuracy: 0.9558 - val_auc_1: 0.9646\n",
      "Epoch 9/30\n",
      "10/10 - 12s - loss: 0.1207 - accuracy: 0.9760 - auc_1: 0.9840 - val_loss: 0.2039 - val_accuracy: 0.9646 - val_auc_1: 0.9654\n",
      "Epoch 10/30\n",
      "10/10 - 12s - loss: 0.2300 - accuracy: 0.9247 - auc_1: 0.9679 - val_loss: 0.2563 - val_accuracy: 0.9469 - val_auc_1: 0.9734\n",
      "Epoch 11/30\n",
      "10/10 - 12s - loss: 0.2393 - accuracy: 0.9212 - auc_1: 0.9593 - val_loss: 0.1700 - val_accuracy: 0.9381 - val_auc_1: 0.9754\n",
      "Epoch 12/30\n",
      "10/10 - 12s - loss: 0.2232 - accuracy: 0.9178 - auc_1: 0.9676 - val_loss: 0.1923 - val_accuracy: 0.9646 - val_auc_1: 0.9658\n",
      "Epoch 13/30\n",
      "10/10 - 12s - loss: 0.1881 - accuracy: 0.9178 - auc_1: 0.9757 - val_loss: 0.1558 - val_accuracy: 0.9646 - val_auc_1: 0.9746\n",
      "Epoch 14/30\n",
      "10/10 - 12s - loss: 0.1472 - accuracy: 0.9623 - auc_1: 0.9814 - val_loss: 0.1464 - val_accuracy: 0.9735 - val_auc_1: 0.9751\n",
      "Epoch 15/30\n",
      "10/10 - 12s - loss: 0.1428 - accuracy: 0.9589 - auc_1: 0.9804 - val_loss: 0.1733 - val_accuracy: 0.9469 - val_auc_1: 0.9759\n",
      "Epoch 16/30\n",
      "10/10 - 13s - loss: 0.1293 - accuracy: 0.9726 - auc_1: 0.9831 - val_loss: 0.1937 - val_accuracy: 0.9204 - val_auc_1: 0.9743\n",
      "Epoch 17/30\n",
      "10/10 - 12s - loss: 0.1186 - accuracy: 0.9692 - auc_1: 0.9840 - val_loss: 0.1489 - val_accuracy: 0.9735 - val_auc_1: 0.9735\n",
      "Epoch 18/30\n",
      "10/10 - 12s - loss: 0.1731 - accuracy: 0.9384 - auc_1: 0.9788 - val_loss: 0.1809 - val_accuracy: 0.9646 - val_auc_1: 0.9660\n",
      "Epoch 19/30\n",
      "10/10 - 12s - loss: 0.1620 - accuracy: 0.9452 - auc_1: 0.9794 - val_loss: 0.1611 - val_accuracy: 0.9646 - val_auc_1: 0.9676\n",
      "Epoch 20/30\n",
      "10/10 - 12s - loss: 0.1329 - accuracy: 0.9521 - auc_1: 0.9874 - val_loss: 0.2087 - val_accuracy: 0.9381 - val_auc_1: 0.9734\n",
      "Epoch 21/30\n",
      "10/10 - 12s - loss: 0.1229 - accuracy: 0.9658 - auc_1: 0.9859 - val_loss: 0.1974 - val_accuracy: 0.9646 - val_auc_1: 0.9599\n",
      "Epoch 22/30\n",
      "10/10 - 12s - loss: 0.1365 - accuracy: 0.9658 - auc_1: 0.9807 - val_loss: 0.1715 - val_accuracy: 0.9558 - val_auc_1: 0.9663\n",
      "Epoch 23/30\n",
      "10/10 - 12s - loss: 0.1314 - accuracy: 0.9692 - auc_1: 0.9806 - val_loss: 0.1495 - val_accuracy: 0.9735 - val_auc_1: 0.9699\n",
      "Epoch 24/30\n",
      "10/10 - 12s - loss: 0.0996 - accuracy: 0.9760 - auc_1: 0.9881 - val_loss: 0.1400 - val_accuracy: 0.9735 - val_auc_1: 0.9734\n",
      "Epoch 25/30\n",
      "10/10 - 12s - loss: 0.1427 - accuracy: 0.9555 - auc_1: 0.9780 - val_loss: 0.1482 - val_accuracy: 0.9646 - val_auc_1: 0.9749\n",
      "Epoch 26/30\n",
      "10/10 - 12s - loss: 0.1056 - accuracy: 0.9555 - auc_1: 0.9908 - val_loss: 0.1390 - val_accuracy: 0.9735 - val_auc_1: 0.9746\n",
      "Epoch 27/30\n",
      "10/10 - 12s - loss: 0.1082 - accuracy: 0.9692 - auc_1: 0.9892 - val_loss: 0.1618 - val_accuracy: 0.9646 - val_auc_1: 0.9777\n",
      "Epoch 28/30\n",
      "10/10 - 12s - loss: 0.1037 - accuracy: 0.9760 - auc_1: 0.9861 - val_loss: 0.1394 - val_accuracy: 0.9646 - val_auc_1: 0.9776\n",
      "Epoch 29/30\n",
      "10/10 - 12s - loss: 0.0934 - accuracy: 0.9829 - auc_1: 0.9895 - val_loss: 0.1546 - val_accuracy: 0.9558 - val_auc_1: 0.9752\n",
      "Epoch 30/30\n",
      "10/10 - 11s - loss: 0.1097 - accuracy: 0.9692 - auc_1: 0.9846 - val_loss: 0.1329 - val_accuracy: 0.9646 - val_auc_1: 0.9774\n",
      "ANN starts: \n",
      "\n",
      "Epoch 1/30\n",
      "24/24 - 1s - loss: 0.7096 - accuracy: 0.4382 - auc_2: 0.4123\n",
      "Epoch 2/30\n",
      "24/24 - 0s - loss: 0.6983 - accuracy: 0.5395 - auc_2: 0.4581\n",
      "Epoch 3/30\n",
      "24/24 - 0s - loss: 0.6911 - accuracy: 0.5487 - auc_2: 0.4389\n",
      "Epoch 4/30\n",
      "24/24 - 0s - loss: 0.6855 - accuracy: 0.6132 - auc_2: 0.5146\n",
      "Epoch 5/30\n",
      "24/24 - 0s - loss: 0.6817 - accuracy: 0.6105 - auc_2: 0.5324\n",
      "Epoch 6/30\n",
      "24/24 - 0s - loss: 0.6781 - accuracy: 0.6053 - auc_2: 0.5451\n",
      "Epoch 7/30\n",
      "24/24 - 0s - loss: 0.6758 - accuracy: 0.6053 - auc_2: 0.5319\n",
      "Epoch 8/30\n",
      "24/24 - 0s - loss: 0.6734 - accuracy: 0.6053 - auc_2: 0.5491\n",
      "Epoch 9/30\n",
      "24/24 - 0s - loss: 0.6705 - accuracy: 0.6053 - auc_2: 0.5994\n",
      "Epoch 10/30\n",
      "24/24 - 0s - loss: 0.6650 - accuracy: 0.6053 - auc_2: 0.6172\n",
      "Epoch 11/30\n",
      "24/24 - 0s - loss: 0.6599 - accuracy: 0.6053 - auc_2: 0.6200\n",
      "Epoch 12/30\n",
      "24/24 - 0s - loss: 0.6572 - accuracy: 0.6053 - auc_2: 0.6155\n",
      "Epoch 13/30\n",
      "24/24 - 0s - loss: 0.6548 - accuracy: 0.6053 - auc_2: 0.6214\n",
      "Epoch 14/30\n",
      "24/24 - 0s - loss: 0.6536 - accuracy: 0.6053 - auc_2: 0.6201\n",
      "Epoch 15/30\n",
      "24/24 - 0s - loss: 0.6523 - accuracy: 0.6053 - auc_2: 0.6242\n",
      "Epoch 16/30\n",
      "24/24 - 0s - loss: 0.6515 - accuracy: 0.6053 - auc_2: 0.6263\n",
      "Epoch 17/30\n",
      "24/24 - 0s - loss: 0.6505 - accuracy: 0.6053 - auc_2: 0.6291\n",
      "Epoch 18/30\n",
      "24/24 - 0s - loss: 0.6498 - accuracy: 0.6053 - auc_2: 0.6312\n",
      "Epoch 19/30\n",
      "24/24 - 0s - loss: 0.6490 - accuracy: 0.6053 - auc_2: 0.6354\n",
      "Epoch 20/30\n",
      "24/24 - 0s - loss: 0.6483 - accuracy: 0.6053 - auc_2: 0.6420\n",
      "Epoch 21/30\n",
      "24/24 - 0s - loss: 0.6477 - accuracy: 0.6053 - auc_2: 0.6416\n",
      "Epoch 22/30\n",
      "24/24 - 0s - loss: 0.6470 - accuracy: 0.6053 - auc_2: 0.6450\n",
      "Epoch 23/30\n",
      "24/24 - 0s - loss: 0.6464 - accuracy: 0.6053 - auc_2: 0.6453\n",
      "Epoch 24/30\n",
      "24/24 - 0s - loss: 0.6455 - accuracy: 0.6053 - auc_2: 0.6465\n",
      "Epoch 25/30\n",
      "24/24 - 0s - loss: 0.6448 - accuracy: 0.6079 - auc_2: 0.6466\n",
      "Epoch 26/30\n",
      "24/24 - 0s - loss: 0.6440 - accuracy: 0.6145 - auc_2: 0.6469\n",
      "Epoch 27/30\n",
      "24/24 - 0s - loss: 0.6437 - accuracy: 0.6132 - auc_2: 0.6473\n",
      "Epoch 28/30\n",
      "24/24 - 0s - loss: 0.6424 - accuracy: 0.6211 - auc_2: 0.6471\n",
      "Epoch 29/30\n",
      "24/24 - 0s - loss: 0.6416 - accuracy: 0.6224 - auc_2: 0.6511\n",
      "Epoch 30/30\n",
      "24/24 - 0s - loss: 0.6408 - accuracy: 0.6224 - auc_2: 0.6504\n"
     ]
    }
   ],
   "source": [
    "if __name__ == \"__main__\":\n",
    "    #prediction()\n",
    "    saveModel()\n",
    "    #testSingleImagePrediction  #-> Single image tester\n",
    "    #NoneReturner()\n"
   ]
  },
  {
   "cell_type": "code",
   "execution_count": 160,
   "metadata": {
    "id": "5VYjzjyd49Ad"
   },
   "outputs": [
    {
     "name": "stdout",
     "output_type": "stream",
     "text": [
      "test for saved models\n"
     ]
    }
   ],
   "source": [
    "print(\"test for saved models\")"
   ]
  },
  {
   "cell_type": "code",
   "execution_count": 171,
   "metadata": {},
   "outputs": [
    {
     "name": "stdout",
     "output_type": "stream",
     "text": [
      "POSITIVE\n"
     ]
    }
   ],
   "source": [
    "# test to load the nlp model\n",
    "\n",
    "with open('./NLP_MODEL.pkl', 'rb') as f:\n",
    "    nlp_model = pickle.load(f)\n",
    "\n",
    "with open('./vectorizer_nlp.pkl', 'rb') as f:\n",
    "    vectorizer = pickle.load(f)\n",
    "\n",
    "    \n",
    "test_set = ['very quick speeds']\n",
    "new_test = vectorizer.transform(test_set)\n",
    "\n",
    "x  =nlp_model.predict(new_test)\n",
    "print(x[0])"
   ]
  },
  {
   "cell_type": "code",
   "execution_count": 3,
   "metadata": {},
   "outputs": [
    {
     "name": "stdout",
     "output_type": "stream",
     "text": [
      "0.037608802\n",
      "[[0.0376088]]\n"
     ]
    }
   ],
   "source": [
    "import keras\n",
    "ann_model = keras.models.load_model('ANN_MODEL.h5')\n",
    "\n",
    "#sc = StandardScaler()\n",
    "r = ann_model.predict(([[1.,23.,1.,38.]]))\n",
    "print(r[0][0])\n",
    "#ann_model.summary()\n"
   ]
  },
  {
   "cell_type": "code",
   "execution_count": 5,
   "metadata": {},
   "outputs": [
    {
     "name": "stdout",
     "output_type": "stream",
     "text": [
      "COVID-19\n",
      "0.0\n"
     ]
    }
   ],
   "source": [
    "import keras\n",
    "import matplotlib.image as mpimg\n",
    "from keras.preprocessing import image\n",
    "from keras.models import load_model\n",
    "import numpy as np\n",
    "\n",
    "cnn_model = keras.models.load_model('CNN.h5')\n",
    "p = \"/Users/tsegazabtesfay/Desktop/tes/Asmarino/DATA/test/covid/1-s2.0-S1684118220300682-main.pdf-003-b1.png\"\n",
    "test_image = image.load_img(p, target_size = (64, 64))\n",
    "test_image = image.img_to_array(test_image)\n",
    "test_image = np.expand_dims(test_image, axis = 0)\n",
    "result = cnn_model.predict(test_image) # cnn == the saved model\n",
    "\n",
    "if result[0][0] == 1: # test for the probabilites is less than 10%\n",
    "    prediction = 'NON-COVID'\n",
    "else:\n",
    "    prediction = 'COVID-19'\n",
    "\n",
    "print(prediction)\n",
    "print(result[0][0])"
   ]
  },
  {
   "cell_type": "code",
   "execution_count": null,
   "metadata": {},
   "outputs": [],
   "source": []
  },
  {
   "cell_type": "code",
   "execution_count": null,
   "metadata": {},
   "outputs": [],
   "source": []
  },
  {
   "cell_type": "code",
   "execution_count": null,
   "metadata": {},
   "outputs": [],
   "source": []
  },
  {
   "cell_type": "code",
   "execution_count": null,
   "metadata": {},
   "outputs": [],
   "source": []
  }
 ],
 "metadata": {
  "accelerator": "GPU",
  "colab": {
   "collapsed_sections": [],
   "name": "Mini_project.ipynb",
   "provenance": [],
   "toc_visible": true
  },
  "kernelspec": {
   "display_name": "Python 3",
   "language": "python",
   "name": "python3"
  },
  "language_info": {
   "codemirror_mode": {
    "name": "ipython",
    "version": 3
   },
   "file_extension": ".py",
   "mimetype": "text/x-python",
   "name": "python",
   "nbconvert_exporter": "python",
   "pygments_lexer": "ipython3",
   "version": "3.8.5"
  }
 },
 "nbformat": 4,
 "nbformat_minor": 4
}
