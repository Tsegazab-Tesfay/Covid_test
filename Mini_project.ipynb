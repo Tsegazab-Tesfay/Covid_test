{
 "cells": [
  {
   "cell_type": "code",
   "execution_count": null,
   "metadata": {
    "id": "mkMRvZ6eK046"
   },
   "outputs": [],
   "source": []
  },
  {
   "cell_type": "markdown",
   "metadata": {
    "id": "stp_h37VK3Zp"
   },
   "source": [
    "# Mini project"
   ]
  },
  {
   "cell_type": "markdown",
   "metadata": {
    "id": "ZPEHyd1_7CNh"
   },
   "source": [
    "## Goal of this project\n",
    "* To get COVID-19 result from home(why? - to avoid spreading COVID-19)"
   ]
  },
  {
   "cell_type": "markdown",
   "metadata": {
    "id": "Qu4D05DW5s-5"
   },
   "source": [
    "## Plan to attack this project\n",
    "\n",
    "The result is given based on these three phases\n",
    "* phase-1: model(NLP) for written text(for example, how the person feel in his/her body) input.\n",
    "* phase-2: model(ANN) for input data input like: sex, age, went_icu and temperature\n",
    "* phase-3: model(CNN) for x-ray images"
   ]
  },
  {
   "cell_type": "markdown",
   "metadata": {
    "id": "2YZEs54l9gs2"
   },
   "source": [
    "## Materials needed to fulfill the process after this project is done\n",
    "* A x-ray image (here we assume that there are mobiles which takes x-ray image)\n",
    "* Internet access"
   ]
  },
  {
   "cell_type": "markdown",
   "metadata": {
    "id": "H5K-BlwYS1cx"
   },
   "source": [
    "# Importing Libraries and Data"
   ]
  },
  {
   "cell_type": "code",
   "execution_count": null,
   "metadata": {
    "id": "oHG7WZS0A5Qj"
   },
   "outputs": [],
   "source": []
  },
  {
   "cell_type": "code",
   "execution_count": 49,
   "metadata": {
    "colab": {
     "base_uri": "https://localhost:8080/"
    },
    "id": "_TeSQlinK8LA",
    "outputId": "81aaf0d9-b993-4785-df82-99ce7f86ced3"
   },
   "outputs": [
    {
     "name": "stderr",
     "output_type": "stream",
     "text": [
      "[nltk_data] Downloading package stopwords to\n",
      "[nltk_data]     /Users/tsegazabtesfay/nltk_data...\n",
      "[nltk_data]   Package stopwords is already up-to-date!\n",
      "[nltk_data] Downloading package punkt to\n",
      "[nltk_data]     /Users/tsegazabtesfay/nltk_data...\n",
      "[nltk_data]   Package punkt is already up-to-date!\n"
     ]
    }
   ],
   "source": [
    "import os\n",
    "import tensorflow as tf\n",
    "import pandas as pd\n",
    "import numpy as np\n",
    "import re\n",
    "import nltk\n",
    "nltk.download(\"stopwords\")\n",
    "nltk.download('punkt')\n",
    "import re\n",
    "from nltk.tokenize import word_tokenize\n",
    "from nltk.corpus import stopwords\n",
    "from unidecode import unidecode\n",
    "#import texthero as hero\n",
    "from nltk.stem import PorterStemmer\n",
    "from sklearn.model_selection import train_test_split\n",
    "from sklearn.feature_extraction.text import CountVectorizer\n",
    "\n",
    "from sklearn import svm\n",
    "from sklearn.tree import DecisionTreeClassifier\n",
    "from sklearn.metrics import f1_score\n",
    "from sklearn.model_selection import GridSearchCV\n",
    "from sklearn import tree\n",
    "import pickle\n",
    "\n",
    "from keras.preprocessing.image import ImageDataGenerator\n",
    "import matplotlib.pyplot as plt\n",
    "import matplotlib.image as mpimg\n",
    "import random\n",
    "from keras.preprocessing import image\n",
    "from keras.models import load_model\n",
    "#import sweetviz as sv\n",
    "from sklearn.compose import ColumnTransformer\n",
    "from sklearn.preprocessing import OneHotEncoder\n",
    "from sklearn.preprocessing import StandardScaler\n",
    "from sklearn.model_selection import train_test_split\n",
    "import warnings\n",
    "warnings.filterwarnings(\"ignore\")\n",
    "\n"
   ]
  },
  {
   "cell_type": "code",
   "execution_count": null,
   "metadata": {},
   "outputs": [],
   "source": []
  },
  {
   "cell_type": "code",
   "execution_count": 50,
   "metadata": {
    "colab": {
     "base_uri": "https://localhost:8080/"
    },
    "id": "z72btFt4J7uQ",
    "outputId": "ba838dd2-f19c-49f6-d056-88f77067711b"
   },
   "outputs": [],
   "source": [
    "#from google.colab import drive\n",
    "#drive.mount('/content/gdrive')"
   ]
  },
  {
   "cell_type": "code",
   "execution_count": null,
   "metadata": {
    "id": "388zZnnDMcfS"
   },
   "outputs": [],
   "source": []
  },
  {
   "cell_type": "markdown",
   "metadata": {
    "id": "5N9vOgUHMCOF"
   },
   "source": [
    "<h1><center><u>PHASE-1</u></center></h1>"
   ]
  },
  {
   "cell_type": "markdown",
   "metadata": {
    "id": "I1msaOe6TBXS"
   },
   "source": [
    "# Importing and cleaning data"
   ]
  },
  {
   "cell_type": "code",
   "execution_count": 51,
   "metadata": {
    "id": "g5K6Mdpqlzzy"
   },
   "outputs": [],
   "source": [
    "#data = pd.read_csv(\"/content/gdrive/MyDrive/DATA/metadata.csv\")\n",
    "data = pd.read_csv(\"./metadata.csv\")"
   ]
  },
  {
   "cell_type": "code",
   "execution_count": 52,
   "metadata": {
    "colab": {
     "base_uri": "https://localhost:8080/"
    },
    "id": "DoTXSTUSMtjP",
    "outputId": "fb952610-5513-4afa-c966-6d646cf58fdd"
   },
   "outputs": [
    {
     "data": {
      "text/plain": [
       "Index(['patientid', 'offset', 'sex', 'age', 'finding', 'RT_PCR_positive',\n",
       "       'survival', 'intubated', 'intubation_present', 'went_icu', 'in_icu',\n",
       "       'needed_supplemental_O2', 'extubated', 'temperature', 'pO2_saturation',\n",
       "       'leukocyte_count', 'neutrophil_count', 'lymphocyte_count', 'view',\n",
       "       'modality', 'date', 'location', 'folder', 'filename', 'doi', 'url',\n",
       "       'license', 'clinical_notes', 'other_notes', 'Unnamed: 29'],\n",
       "      dtype='object')"
      ]
     },
     "execution_count": 52,
     "metadata": {},
     "output_type": "execute_result"
    }
   ],
   "source": [
    "data.columns"
   ]
  },
  {
   "cell_type": "code",
   "execution_count": 53,
   "metadata": {
    "id": "AxO0OiK3ma1a"
   },
   "outputs": [],
   "source": [
    "#data_report = sv.analyze(data)\n",
    "#data_report.show_notebook(layout=\"vertical\", w=880, h=700, scale=0.8)\n"
   ]
  },
  {
   "cell_type": "code",
   "execution_count": 54,
   "metadata": {
    "id": "wZzFcrjyMvEG"
   },
   "outputs": [],
   "source": [
    "data = data[[\"clinical_notes\", \"date\", \"RT_PCR_positive\"]]"
   ]
  },
  {
   "cell_type": "code",
   "execution_count": 55,
   "metadata": {
    "colab": {
     "base_uri": "https://localhost:8080/",
     "height": 204
    },
    "id": "VSUyPHb9T2pY",
    "outputId": "707d783d-48f2-4217-dc0e-ba271b14e537"
   },
   "outputs": [
    {
     "data": {
      "text/html": [
       "<div>\n",
       "<style scoped>\n",
       "    .dataframe tbody tr th:only-of-type {\n",
       "        vertical-align: middle;\n",
       "    }\n",
       "\n",
       "    .dataframe tbody tr th {\n",
       "        vertical-align: top;\n",
       "    }\n",
       "\n",
       "    .dataframe thead th {\n",
       "        text-align: right;\n",
       "    }\n",
       "</style>\n",
       "<table border=\"1\" class=\"dataframe\">\n",
       "  <thead>\n",
       "    <tr style=\"text-align: right;\">\n",
       "      <th></th>\n",
       "      <th>clinical_notes</th>\n",
       "      <th>date</th>\n",
       "      <th>RT_PCR_positive</th>\n",
       "    </tr>\n",
       "  </thead>\n",
       "  <tbody>\n",
       "    <tr>\n",
       "      <th>0</th>\n",
       "      <td>On January 22, 2020, a 65-year-old man with a ...</td>\n",
       "      <td>January 22, 2020</td>\n",
       "      <td>Y</td>\n",
       "    </tr>\n",
       "    <tr>\n",
       "      <th>1</th>\n",
       "      <td>On January 22, 2020, a 65-year-old man with a ...</td>\n",
       "      <td>January 25, 2020</td>\n",
       "      <td>Y</td>\n",
       "    </tr>\n",
       "    <tr>\n",
       "      <th>2</th>\n",
       "      <td>On January 22, 2020, a 65-year-old man with a ...</td>\n",
       "      <td>January 27, 2020</td>\n",
       "      <td>Y</td>\n",
       "    </tr>\n",
       "    <tr>\n",
       "      <th>3</th>\n",
       "      <td>On January 22, 2020, a 65-year-old man with a ...</td>\n",
       "      <td>January 28, 2020</td>\n",
       "      <td>Y</td>\n",
       "    </tr>\n",
       "    <tr>\n",
       "      <th>4</th>\n",
       "      <td>diffuse infiltrates in the bilateral lower lungs</td>\n",
       "      <td>January 25, 2020</td>\n",
       "      <td>Y</td>\n",
       "    </tr>\n",
       "  </tbody>\n",
       "</table>\n",
       "</div>"
      ],
      "text/plain": [
       "                                      clinical_notes              date  \\\n",
       "0  On January 22, 2020, a 65-year-old man with a ...  January 22, 2020   \n",
       "1  On January 22, 2020, a 65-year-old man with a ...  January 25, 2020   \n",
       "2  On January 22, 2020, a 65-year-old man with a ...  January 27, 2020   \n",
       "3  On January 22, 2020, a 65-year-old man with a ...  January 28, 2020   \n",
       "4   diffuse infiltrates in the bilateral lower lungs  January 25, 2020   \n",
       "\n",
       "  RT_PCR_positive  \n",
       "0               Y  \n",
       "1               Y  \n",
       "2               Y  \n",
       "3               Y  \n",
       "4               Y  "
      ]
     },
     "execution_count": 55,
     "metadata": {},
     "output_type": "execute_result"
    }
   ],
   "source": [
    "data.head()"
   ]
  },
  {
   "cell_type": "code",
   "execution_count": 56,
   "metadata": {
    "id": "wp3I6Pd-VXS4"
   },
   "outputs": [],
   "source": [
    "# the goal here to exclude the year before 2019\n",
    "# and take away the clinical_notes without date to avoid misleading\n",
    "for i in range(950):\n",
    "    if isinstance(data[\"date\"][i], str) and (data[\"date\"][i].endswith(\"19\") or data[\"date\"][i].endswith(\"20\") or data[\"date\"][i].endswith(\"21\")):\n",
    "        pass\n",
    "    else:\n",
    "        data = data.drop(i)"
   ]
  },
  {
   "cell_type": "code",
   "execution_count": 57,
   "metadata": {
    "id": "-RK7Wy1vgLFv"
   },
   "outputs": [],
   "source": [
    "# now we drop the date\n",
    "data  = data[[\"clinical_notes\", \"RT_PCR_positive\"]]"
   ]
  },
  {
   "cell_type": "code",
   "execution_count": 58,
   "metadata": {
    "colab": {
     "base_uri": "https://localhost:8080/",
     "height": 204
    },
    "id": "uGSKXOSVYXZj",
    "outputId": "f9fcc26f-e1ef-429b-bc3c-1635615bde06"
   },
   "outputs": [
    {
     "data": {
      "text/html": [
       "<div>\n",
       "<style scoped>\n",
       "    .dataframe tbody tr th:only-of-type {\n",
       "        vertical-align: middle;\n",
       "    }\n",
       "\n",
       "    .dataframe tbody tr th {\n",
       "        vertical-align: top;\n",
       "    }\n",
       "\n",
       "    .dataframe thead th {\n",
       "        text-align: right;\n",
       "    }\n",
       "</style>\n",
       "<table border=\"1\" class=\"dataframe\">\n",
       "  <thead>\n",
       "    <tr style=\"text-align: right;\">\n",
       "      <th></th>\n",
       "      <th>clinical_notes</th>\n",
       "      <th>RT_PCR_positive</th>\n",
       "    </tr>\n",
       "  </thead>\n",
       "  <tbody>\n",
       "    <tr>\n",
       "      <th>0</th>\n",
       "      <td>On January 22, 2020, a 65-year-old man with a ...</td>\n",
       "      <td>Y</td>\n",
       "    </tr>\n",
       "    <tr>\n",
       "      <th>1</th>\n",
       "      <td>On January 22, 2020, a 65-year-old man with a ...</td>\n",
       "      <td>Y</td>\n",
       "    </tr>\n",
       "    <tr>\n",
       "      <th>2</th>\n",
       "      <td>On January 22, 2020, a 65-year-old man with a ...</td>\n",
       "      <td>Y</td>\n",
       "    </tr>\n",
       "    <tr>\n",
       "      <th>3</th>\n",
       "      <td>On January 22, 2020, a 65-year-old man with a ...</td>\n",
       "      <td>Y</td>\n",
       "    </tr>\n",
       "    <tr>\n",
       "      <th>4</th>\n",
       "      <td>diffuse infiltrates in the bilateral lower lungs</td>\n",
       "      <td>Y</td>\n",
       "    </tr>\n",
       "  </tbody>\n",
       "</table>\n",
       "</div>"
      ],
      "text/plain": [
       "                                      clinical_notes RT_PCR_positive\n",
       "0  On January 22, 2020, a 65-year-old man with a ...               Y\n",
       "1  On January 22, 2020, a 65-year-old man with a ...               Y\n",
       "2  On January 22, 2020, a 65-year-old man with a ...               Y\n",
       "3  On January 22, 2020, a 65-year-old man with a ...               Y\n",
       "4   diffuse infiltrates in the bilateral lower lungs               Y"
      ]
     },
     "execution_count": 58,
     "metadata": {},
     "output_type": "execute_result"
    }
   ],
   "source": [
    "data.head()"
   ]
  },
  {
   "cell_type": "code",
   "execution_count": 59,
   "metadata": {
    "id": "MMiTvnM8zCYq"
   },
   "outputs": [],
   "source": [
    "# drop nan in both columns\n",
    "data = data.dropna(subset=[\"clinical_notes\"])\n",
    "data = data.dropna(subset=[\"RT_PCR_positive\"])"
   ]
  },
  {
   "cell_type": "code",
   "execution_count": 60,
   "metadata": {
    "id": "ityfJOQ_QQ_e"
   },
   "outputs": [],
   "source": [
    "#data.sort_values(\"clinical_notes\", inplace = True)\n",
    "data.drop_duplicates(subset =\"clinical_notes\", keep = False, inplace = True)"
   ]
  },
  {
   "cell_type": "code",
   "execution_count": 61,
   "metadata": {
    "id": "dMCeSpIOK_Qn"
   },
   "outputs": [],
   "source": [
    "\n",
    "def removeMeaninglesWords(x_data):\n",
    "    \"\"\"\n",
    "    Parm: a columns from data-set to be cleaned(has series type)\n",
    "    Returns: list(str)\n",
    "    \"\"\"\n",
    "    cleaned_clinical_note = []\n",
    "    # inds characters not in the range: a-zA-Z and whitespace and '\n",
    "    alphabetic = re.compile(r\"[^a-zA-Z\\s]\")\n",
    "    # finds single quotes not within a word\n",
    "    singlequote = re.compile(r\"((\\W)(?:\\B|$)|(?:^|\\B)(\\W))\")\n",
    "    stop_words = stopwords.words('english')\n",
    "    for text in x_data:\n",
    "        new_words = []\n",
    "        text = unidecode(text) # example: ã'bç becomes abc\n",
    "        text = re.sub(alphabetic, \" \", text) #example: 2\"3can't\"/ becomes can't\n",
    "        text = re.sub(singlequote, \" \", text) #''' shouldn't '''''' becomes shouldn't\n",
    "        words = text.lower().split()\n",
    "        for word in words:\n",
    "            if (not (word in stop_words) and (word.strip()) and len(word)>1):\n",
    "                new_words.append(word)\n",
    "            else:\n",
    "                continue\n",
    "        cleaned_clinical_note.append(\" \".join(new_words))\n",
    "    return cleaned_clinical_note\n"
   ]
  },
  {
   "cell_type": "code",
   "execution_count": 62,
   "metadata": {
    "id": "k27fToZNSPC9"
   },
   "outputs": [],
   "source": [
    "cleaned_data =  removeMeaninglesWords(data[\"clinical_notes\"])"
   ]
  },
  {
   "cell_type": "code",
   "execution_count": 63,
   "metadata": {
    "colab": {
     "base_uri": "https://localhost:8080/"
    },
    "id": "wxvql-OPSPeI",
    "outputId": "b37c8ca9-59d2-4e67-9bc9-aa14ae21ad1b"
   },
   "outputs": [
    {
     "name": "stdout",
     "output_type": "stream",
     "text": [
      "****************************************************************************************************\n",
      "Original words:  18500\n",
      "Without stopwords & alnum:  12260\n",
      "Difference :  6240\n"
     ]
    }
   ],
   "source": [
    "# to show us the difference b/n the orginal and the new on \n",
    "def countDifference():\n",
    "    sum_orginal = 0\n",
    "    sum_cleaned = 0\n",
    "    for i in range(len(data)):\n",
    "        sum_orginal += len(data[\"clinical_notes\"].iloc[i].split(\" \"))\n",
    "        sum_cleaned += len(cleaned_data[i].split(\" \"))\n",
    "    print(\"*\"*100)\n",
    "    print(\"Original words: \", sum_orginal)\n",
    "    print(\"Without stopwords & alnum: \", sum_cleaned)\n",
    "    print(\"Difference : \", sum_orginal - sum_cleaned)\n",
    "countDifference()"
   ]
  },
  {
   "cell_type": "code",
   "execution_count": 64,
   "metadata": {
    "colab": {
     "base_uri": "https://localhost:8080/",
     "height": 575
    },
    "id": "y-vRHEChSNrz",
    "outputId": "4464cee6-4611-44ab-a968-a05065c17bbe"
   },
   "outputs": [],
   "source": [
    "# visualizing uncleaned data(where max appearance is 30)\n",
    "#hero.visualization.wordcloud(data[\"clinical_notes\"], max_words=30,background_color=\"black\")"
   ]
  },
  {
   "cell_type": "code",
   "execution_count": 65,
   "metadata": {
    "colab": {
     "base_uri": "https://localhost:8080/",
     "height": 575
    },
    "id": "mMQnkFGTSNvZ",
    "outputId": "6c63c933-21da-475c-a11a-8d9cff938a14"
   },
   "outputs": [],
   "source": [
    "# visualizing cleaned data\n",
    "#hero.visualization.wordcloud(pd.Series(cleaned_data), max_words=30,background_color=\"brown\")"
   ]
  },
  {
   "cell_type": "code",
   "execution_count": 66,
   "metadata": {
    "id": "oogaD9eyDGNx"
   },
   "outputs": [],
   "source": [
    "def stemmingNotes(data):\n",
    "    \"\"\"\n",
    "    Parm: list(str)\n",
    "    Returns: list(str) after stemming\n",
    "    \"\"\"\n",
    "    cleaned_notes = []\n",
    "    porter = PorterStemmer() # Using the default nltk Porter Stemmer for text normalization\n",
    "    for text in data:\n",
    "        token_words = word_tokenize(text)\n",
    "        stem_sentence = []\n",
    "        for word in token_words:\n",
    "            stem_sentence.append(porter.stem(word))\n",
    "        cleaned_notes.append(\" \".join(stem_sentence))\n",
    "    return cleaned_notes\n"
   ]
  },
  {
   "cell_type": "code",
   "execution_count": 67,
   "metadata": {
    "id": "mgt-9iP0nYEQ"
   },
   "outputs": [],
   "source": [
    "final_notes = stemmingNotes(cleaned_data)"
   ]
  },
  {
   "cell_type": "code",
   "execution_count": 68,
   "metadata": {
    "id": "OsaqaLHanYPm"
   },
   "outputs": [],
   "source": [
    "data[\"clinical_notes\"][:] = final_notes[:]"
   ]
  },
  {
   "cell_type": "code",
   "execution_count": 69,
   "metadata": {
    "colab": {
     "base_uri": "https://localhost:8080/",
     "height": 35
    },
    "id": "0W34VZ7YgKV6",
    "outputId": "a403a29e-9b68-4665-904f-44572616544d"
   },
   "outputs": [
    {
     "data": {
      "text/plain": [
       "'Unclear'"
      ]
     },
     "execution_count": 69,
     "metadata": {},
     "output_type": "execute_result"
    }
   ],
   "source": [
    "data[\"RT_PCR_positive\"][936]"
   ]
  },
  {
   "cell_type": "markdown",
   "metadata": {
    "id": "mF4wr-Jxygx9"
   },
   "source": [
    "# Data preparation"
   ]
  },
  {
   "cell_type": "code",
   "execution_count": 70,
   "metadata": {
    "id": "PstRE7AA5b_G"
   },
   "outputs": [],
   "source": [
    "class CovidResult:\n",
    "    POSITIVE = \"POSITIVE\"\n",
    "    UNCLEAR_ = \"UNCLEAR_\"\n",
    "\n",
    "class Notes:\n",
    "    def __init__(self, clinical_notes, rt_pcr):\n",
    "        self.clinical_notes = clinical_notes\n",
    "        self.rt_pcr = rt_pcr\n",
    "        self.result = self.get_result()\n",
    "    \n",
    "    def get_result(self):\n",
    "        if self.rt_pcr == \"Y\":\n",
    "            return CovidResult.POSITIVE\n",
    "        elif self.rt_pcr == \"Unclear\":\n",
    "            return CovidResult.UNCLEAR_"
   ]
  },
  {
   "cell_type": "code",
   "execution_count": 71,
   "metadata": {
    "colab": {
     "base_uri": "https://localhost:8080/",
     "height": 35
    },
    "id": "mxjHH9NLvN-7",
    "outputId": "8a17c58d-95e2-49d5-fe2e-73575707e4a2"
   },
   "outputs": [
    {
     "data": {
      "text/plain": [
       "'POSITIVE'"
      ]
     },
     "execution_count": 71,
     "metadata": {},
     "output_type": "execute_result"
    }
   ],
   "source": [
    "allData = []\n",
    "for i in range(len(data)):\n",
    "    allData.append(Notes(data[\"clinical_notes\"].iloc[i], data[\"RT_PCR_positive\"].iloc[i]))\n",
    "allData[15].result # checking\n"
   ]
  },
  {
   "cell_type": "code",
   "execution_count": 72,
   "metadata": {
    "id": "ykE0ptJCvODD"
   },
   "outputs": [],
   "source": [
    "training, test = train_test_split(allData, test_size = 0.3, random_state=42)"
   ]
  },
  {
   "cell_type": "code",
   "execution_count": 73,
   "metadata": {
    "id": "cev2u9JkvOFl"
   },
   "outputs": [],
   "source": [
    "train_x = [x.clinical_notes for x in training]\n",
    "train_y = [x.result for x in training]\n",
    "test_x = [x.clinical_notes for x in test]\n",
    "test_y = [x.result for x in test]"
   ]
  },
  {
   "cell_type": "code",
   "execution_count": 74,
   "metadata": {
    "id": "6PuAM2zB0am4"
   },
   "outputs": [],
   "source": [
    "vectorizer = CountVectorizer()\n",
    "train_x_vector = vectorizer.fit_transform(train_x)\n",
    "test_x_vector = vectorizer.transform(test_x)"
   ]
  },
  {
   "cell_type": "markdown",
   "metadata": {
    "id": "x_RZhqvCEVdt"
   },
   "source": [
    "# Models for classification\n",
    "* testing different models"
   ]
  },
  {
   "cell_type": "code",
   "execution_count": 75,
   "metadata": {
    "colab": {
     "base_uri": "https://localhost:8080/"
    },
    "id": "YrDjBxw00avn",
    "outputId": "dd3d38b7-c211-4cbe-8a0c-3ee767e78c1b"
   },
   "outputs": [
    {
     "data": {
      "text/plain": [
       "DecisionTreeClassifier()"
      ]
     },
     "execution_count": 75,
     "metadata": {},
     "output_type": "execute_result"
    }
   ],
   "source": [
    "# Linear svm\n",
    "clf_svm = svm.SVC(kernel=\"linear\")\n",
    "clf_svm.fit(train_x_vector, train_y)\n",
    "\n",
    "# Decision tree\n",
    "cls_dec = DecisionTreeClassifier()\n",
    "cls_dec.fit(train_x_vector, train_y)"
   ]
  },
  {
   "cell_type": "code",
   "execution_count": 76,
   "metadata": {
    "colab": {
     "base_uri": "https://localhost:8080/"
    },
    "id": "XMOlx8EB0ayd",
    "outputId": "cff0f1df-90ae-49a5-efc0-0a8d1f632cb9"
   },
   "outputs": [
    {
     "name": "stdout",
     "output_type": "stream",
     "text": [
      "['UNCLEAR_']\n",
      "['POSITIVE']\n"
     ]
    }
   ],
   "source": [
    "# testing two single for both models\n",
    "print(clf_svm.predict(test_x_vector[0]))\n",
    "print(cls_dec.predict(test_x_vector[0]))\n"
   ]
  },
  {
   "cell_type": "markdown",
   "metadata": {
    "id": "rgwVZAqRMvuC"
   },
   "source": [
    "## Evaluation\n",
    "* see mean accuracy score\n",
    "* see f1_score\n",
    "* tuning our models\n",
    "* chose the best model"
   ]
  },
  {
   "cell_type": "code",
   "execution_count": 77,
   "metadata": {
    "colab": {
     "base_uri": "https://localhost:8080/"
    },
    "id": "2F_AQhSKMhwG",
    "outputId": "9e1f23c2-cb54-4cc8-e825-0210aa3aa78d"
   },
   "outputs": [
    {
     "name": "stdout",
     "output_type": "stream",
     "text": [
      "0.76\n",
      "0.7333333333333333\n"
     ]
    }
   ],
   "source": [
    "# mean accuracy\n",
    "print(clf_svm.score(test_x_vector, test_y))\n",
    "print(cls_dec.score(test_x_vector, test_y))\n"
   ]
  },
  {
   "cell_type": "code",
   "execution_count": 78,
   "metadata": {
    "colab": {
     "base_uri": "https://localhost:8080/"
    },
    "id": "SHTDYeXpMhzF",
    "outputId": "e6a4826c-b22b-4ed0-fa88-8785d69c81dd"
   },
   "outputs": [
    {
     "name": "stdout",
     "output_type": "stream",
     "text": [
      "[0.83636364 0.55      ]\n",
      "[0.82142857 0.47368421]\n"
     ]
    }
   ],
   "source": [
    "# f1_score\n",
    "print(f1_score(test_y, clf_svm.predict(test_x_vector), average=None, labels=[CovidResult.POSITIVE, CovidResult.UNCLEAR_]))\n",
    "print(f1_score(test_y, cls_dec.predict(test_x_vector), average=None, labels=[CovidResult.POSITIVE, CovidResult.UNCLEAR_]))"
   ]
  },
  {
   "cell_type": "code",
   "execution_count": 79,
   "metadata": {
    "colab": {
     "base_uri": "https://localhost:8080/"
    },
    "id": "AtY70q5qMh1l",
    "outputId": "7896b836-493b-4aaa-d79b-09caa75fe401"
   },
   "outputs": [
    {
     "name": "stdout",
     "output_type": "stream",
     "text": [
      "47 19\n",
      "126 56\n"
     ]
    }
   ],
   "source": [
    "print(train_y.count(CovidResult.UNCLEAR_), test_y.count(CovidResult.UNCLEAR_))\n",
    "print(train_y.count(CovidResult.POSITIVE), test_y.count(CovidResult.POSITIVE))"
   ]
  },
  {
   "cell_type": "markdown",
   "metadata": {
    "id": "dlKK5dlFZhUk"
   },
   "source": [
    "## Tuning models"
   ]
  },
  {
   "cell_type": "code",
   "execution_count": 80,
   "metadata": {
    "colab": {
     "base_uri": "https://localhost:8080/"
    },
    "id": "q9fbCnfJFYNp",
    "outputId": "772e3a3a-2b87-4ebf-f4a3-79aa9c27a932"
   },
   "outputs": [
    {
     "name": "stdout",
     "output_type": "stream",
     "text": [
      "0.8154621848739495 {'C': 10, 'kernel': 'rbf'}\n",
      "0.8042016806722689 {'max_depth': 11}\n"
     ]
    }
   ],
   "source": [
    "# tuning first model\n",
    "parameters = {'kernel':('linear', 'rbf'), 'C':[1, 10]}\n",
    "svc = svm.SVC()\n",
    "clf_Svm = GridSearchCV(svc, parameters)\n",
    "clf_Svm.fit(train_x_vector, train_y)\n",
    "print(clf_Svm.best_score_, clf_Svm.best_params_)\n",
    "\n",
    "# tuning second model\n",
    "from sklearn.model_selection import GridSearchCV\n",
    "from sklearn import tree\n",
    "\n",
    "parameters = {'max_depth':range(3,20)}\n",
    "clf_dec = GridSearchCV(tree.DecisionTreeClassifier(), parameters, n_jobs=4)\n",
    "clf_dec.fit(train_x_vector, train_y)\n",
    "tree_model = clf_dec.best_estimator_\n",
    "print(clf_dec.best_score_, clf_dec.best_params_) \n",
    "\n"
   ]
  },
  {
   "cell_type": "markdown",
   "metadata": {
    "id": "W5HupPMLZVH3"
   },
   "source": [
    "## Confusion Matrix"
   ]
  },
  {
   "cell_type": "code",
   "execution_count": 81,
   "metadata": {
    "colab": {
     "base_uri": "https://localhost:8080/",
     "height": 283
    },
    "id": "kAGGhuQtJ9HF",
    "outputId": "47788e14-1075-403e-d132-dea26f0956f4"
   },
   "outputs": [
    {
     "data": {
      "text/plain": [
       "<AxesSubplot:>"
      ]
     },
     "execution_count": 81,
     "metadata": {},
     "output_type": "execute_result"
    },
    {
     "data": {
      "image/png": "[encoded data removed]",
      "text/plain": [
       "<Figure size 432x288 with 2 Axes>"
      ]
     },
     "metadata": {
      "needs_background": "light"
     },
     "output_type": "display_data"
    }
   ],
   "source": [
    "from sklearn.metrics import confusion_matrix\n",
    "import seaborn as sn\n",
    "import pandas as pd\n",
    "import matplotlib as plt\n",
    "\n",
    "y_pred = clf_Svm.predict(test_x_vector)\n",
    "\n",
    "labels = [CovidResult.POSITIVE, CovidResult.UNCLEAR_]\n",
    "\n",
    "cm = confusion_matrix(test_y, y_pred, labels=labels)\n",
    "df_cm = pd.DataFrame(cm, index=labels, columns=labels)\n",
    "\n",
    "sn.heatmap(df_cm, annot=True, fmt='d')"
   ]
  },
  {
   "cell_type": "code",
   "execution_count": 82,
   "metadata": {
    "colab": {
     "base_uri": "https://localhost:8080/",
     "height": 283
    },
    "id": "g97cA3dob8bV",
    "outputId": "d4b71678-c69b-48bd-9148-392fa41e09c3"
   },
   "outputs": [
    {
     "data": {
      "text/plain": [
       "<AxesSubplot:>"
      ]
     },
     "execution_count": 82,
     "metadata": {},
     "output_type": "execute_result"
    },
    {
     "data": {
      "image/png": "[encoded data removed]",
      "text/plain": [
       "<Figure size 432x288 with 2 Axes>"
      ]
     },
     "metadata": {
      "needs_background": "light"
     },
     "output_type": "display_data"
    }
   ],
   "source": [
    "# for \n",
    "y_pred = clf_dec.predict(test_x_vector)\n",
    "\n",
    "labels = [CovidResult.POSITIVE, CovidResult.UNCLEAR_]\n",
    "\n",
    "cm = confusion_matrix(test_y, y_pred, labels=labels)\n",
    "df_cm = pd.DataFrame(cm, index=labels, columns=labels)\n",
    "\n",
    "sn.heatmap(df_cm, annot=True, fmt='d')"
   ]
  },
  {
   "cell_type": "code",
   "execution_count": null,
   "metadata": {
    "colab": {
     "base_uri": "https://localhost:8080/"
    },
    "id": "q_meCD7zejXr",
    "outputId": "589bc44e-0d58-4138-8995-252f78d555a8"
   },
   "outputs": [],
   "source": []
  },
  {
   "cell_type": "code",
   "execution_count": null,
   "metadata": {
    "id": "5C4pr7mGjKc0"
   },
   "outputs": [],
   "source": []
  },
  {
   "cell_type": "markdown",
   "metadata": {
    "id": "eulzy5-tZ4Tg"
   },
   "source": [
    "# Saving best model"
   ]
  },
  {
   "cell_type": "code",
   "execution_count": 83,
   "metadata": {
    "id": "FldKctedZ8hR"
   },
   "outputs": [],
   "source": [
    "import pickle\n",
    "\n",
    "with open('./NLP_MODEL.pkl', 'wb') as f:\n",
    "    pickle.dump(clf_Svm, f)\n",
    "    \n",
    "with open('./vectorizer_nlp.pkl', 'wb') as f:\n",
    "    pickle.dump(vectorizer, f)\n",
    "\n",
    "    \n",
    "#-__________________________^______________________to load our model_________\n",
    "#with open('./NLP_MODEL.pkl', 'rb') as f:\n",
    "#    clf = pickle.load(f)\n",
    "\n",
    "#with open('./vectorizer_nlp.pkl', 'rb') as f:\n",
    "#    vectorizer = pickle.load(f)\n",
    "\n",
    "    \n",
    "#test_set = ['very quick speeds', \"loved the necklace\", 'bad']\n",
    "#new_test = vectorizer.transform(test_set)\n",
    "\n",
    "#clf.predict(new_test)"
   ]
  },
  {
   "cell_type": "code",
   "execution_count": null,
   "metadata": {
    "id": "5nD_JEzNaAu4"
   },
   "outputs": [],
   "source": []
  },
  {
   "cell_type": "markdown",
   "metadata": {
    "id": "YgwHxsbmlOg5"
   },
   "source": [
    "<h1><center><u>PHASE-2 and PHASE-3</u></center></h1>"
   ]
  },
  {
   "cell_type": "code",
   "execution_count": 84,
   "metadata": {
    "id": "GXJpkTAmlPT_"
   },
   "outputs": [],
   "source": [
    "#data = pd.read_csv(\"/content/gdrive/MyDrive/DATA/metadata.csv\") # We we worked on google colab\n",
    "data = pd.read_csv(\"./metadata.csv\")"
   ]
  },
  {
   "cell_type": "code",
   "execution_count": 85,
   "metadata": {
    "colab": {
     "base_uri": "https://localhost:8080/"
    },
    "id": "z_9WchTgtdYE",
    "outputId": "c3add0f2-21ef-44be-ca67-547dc34abe19"
   },
   "outputs": [
    {
     "data": {
      "text/plain": [
       "Index(['patientid', 'offset', 'sex', 'age', 'finding', 'RT_PCR_positive',\n",
       "       'survival', 'intubated', 'intubation_present', 'went_icu', 'in_icu',\n",
       "       'needed_supplemental_O2', 'extubated', 'temperature', 'pO2_saturation',\n",
       "       'leukocyte_count', 'neutrophil_count', 'lymphocyte_count', 'view',\n",
       "       'modality', 'date', 'location', 'folder', 'filename', 'doi', 'url',\n",
       "       'license', 'clinical_notes', 'other_notes', 'Unnamed: 29'],\n",
       "      dtype='object')"
      ]
     },
     "execution_count": 85,
     "metadata": {},
     "output_type": "execute_result"
    }
   ],
   "source": [
    "data.columns"
   ]
  },
  {
   "cell_type": "code",
   "execution_count": 155,
   "metadata": {
    "id": "YbCawbFWtfmU"
   },
   "outputs": [],
   "source": [
    "class dataProcessing:\n",
    "    \n",
    "    def imageProcessing(self, train_location, test_location):\n",
    "                \n",
    "        train_datagen = ImageDataGenerator(rescale = 1./255,\n",
    "                                      shear_range = 0.2,\n",
    "                                      zoom_range = 0.2,\n",
    "                                      horizontal_flip = True)\n",
    "        test_datagen = ImageDataGenerator(rescale = 1./255)\n",
    "        \n",
    "        training_set = train_datagen.flow_from_directory(train_location,\n",
    "                                                        target_size = (64, 64),\n",
    "                                                        batch_size = 32,\n",
    "                                                        class_mode = \"binary\")\n",
    "        test_set = test_datagen.flow_from_directory(test_location,\n",
    "                                           target_size = (64, 64),\n",
    "                                           batch_size = 32,\n",
    "                                           class_mode = \"binary\")\n",
    "        return training_set, test_set  \n",
    "    \n",
    "    def dataCleanerForAnn(self, data): # this is only for our case\n",
    "        df1 = data[[\"sex\", \"age\", \"went_icu\", \"temperature\", \"RT_PCR_positive\"]]\n",
    "        df1[\"sex\"] = pd.get_dummies(df1[\"sex\"], drop_first=True)\n",
    "        df1[\"went_icu\"] = pd.get_dummies(df1[\"went_icu\"], drop_first=True)\n",
    "        df1[\"RT_PCR_positive\"] = pd.get_dummies(df1[\"RT_PCR_positive\"], drop_first=True)\n",
    "\n",
    "        df1[\"temperature\"].fillna(df1[\"temperature\"].mean(), inplace=True)\n",
    "        df1[\"age\"].fillna(df1[\"age\"].mean(), inplace=True)\n",
    "        return df1\n",
    "    \n",
    "    def splittingAndScaling(self, datapath):\n",
    "        data = pd.read_csv(datapath)\n",
    "        arrangedData  = self.dataCleanerForAnn(data)\n",
    "        X = arrangedData.iloc[:, :-1].values\n",
    "        y = arrangedData.iloc[: ,-1].values \n",
    "        \n",
    "        X_train, X_test, y_train, y_test = train_test_split(X, y, test_size = 0.3, random_state = 0)\n",
    "        sc = StandardScaler()\n",
    "        X_train = sc.fit_transform(X_train)\n",
    "        X_test = sc.transform(X_test)\n",
    "        \n",
    "        \n",
    "        return X_train, X_test, y_train, y_test"
   ]
  },
  {
   "cell_type": "code",
   "execution_count": null,
   "metadata": {},
   "outputs": [],
   "source": []
  },
  {
   "cell_type": "code",
   "execution_count": 163,
   "metadata": {
    "id": "hlobIsTjtoBc"
   },
   "outputs": [],
   "source": [
    "class buildModel:\n",
    "    \n",
    "    def annModel(self, X_train, y_train):\n",
    "        \n",
    "        ann = tf.keras.models.Sequential()\n",
    "        ann.add(tf.keras.layers.Dense(units=6, activation='relu'))\n",
    "        ann.add(tf.keras.layers.Dense(units=6, activation='relu'))\n",
    "        ann.add(tf.keras.layers.Dense(units=1, activation='sigmoid'))\n",
    "        ann.compile(optimizer = 'adam', loss = 'binary_crossentropy', metrics = ['accuracy'])\n",
    "        ann.fit(X_train, y_train, batch_size = 32, epochs = 10)\n",
    "        return ann\n",
    "        \n",
    "    def cnnModel(self, train, test):\n",
    "        #dataProcessing = dataProcessing()\n",
    "        #tr, ts = dataProcessing.imageProcessing(train, test)\n",
    "        \n",
    "        cnn = tf.keras.models.Sequential()\n",
    "        cnn.add(tf.keras.layers.Conv2D(filters=32, kernel_size=3, activation='relu', input_shape=[64, 64, 3]))\n",
    "        cnn.add(tf.keras.layers.MaxPool2D(pool_size=2, strides=2))\n",
    "        cnn.add(tf.keras.layers.Conv2D(filters=32, kernel_size=3, activation='relu'))\n",
    "        cnn.add(tf.keras.layers.MaxPool2D(pool_size=2, strides=2))\n",
    "        cnn.add(tf.keras.layers.Flatten())\n",
    "        cnn.add(tf.keras.layers.Dense(units=128, activation='relu'))\n",
    "        cnn.add(tf.keras.layers.Dense(units=1, activation='sigmoid'))\n",
    "        cnn.compile(optimizer = 'adam', loss = 'binary_crossentropy', metrics = ['accuracy'])\n",
    "        cnn.fit(x = train, validation_data = test, epochs = 2)\n",
    "        \n",
    "        #test\n",
    "        \n",
    "        p = \"./DATA/test/non/patient00036-study1-view1_frontal.jpg\"\n",
    "        test_image = image.load_img(p, target_size = (64, 64))\n",
    "        test_image = image.img_to_array(test_image)\n",
    "        test_image = np.expand_dims(test_image, axis = 0)\n",
    "        result = cnn.predict(test_image) # cnn == the saved model\n",
    "        print(tr.class_indices)\n",
    "        if result[0][0] <= 0.5: # test for the probabilites is less than 10%\n",
    "            prediction = 'NON-COVID'\n",
    "        else:\n",
    "            prediction = 'COVID-19'\n",
    "        \n",
    "        return cnn, prediction\n",
    "    "
   ]
  },
  {
   "cell_type": "code",
   "execution_count": 88,
   "metadata": {
    "id": "ExQnk3lBtuDk"
   },
   "outputs": [],
   "source": [
    "def predicter(im):\n",
    "    #train_location = \"/content/gdrive/MyDrive/DATA/train\" # for google colab\n",
    "    #test_location = \"/content/gdrive/MyDrive/DATA/test\"   # for google colab\n",
    "    \n",
    "    train_location = \"./DATA/train\"\n",
    "    test_location = \"./DATA/test\"\n",
    "    \n",
    "    DP = dataProcessing()\n",
    "    bM = buildModel()\n",
    "    train, test  = DP.imageProcessing(train_location, test_location)\n",
    "    cnn = bM.cnnModel(train, test)\n",
    "    \n",
    "    \n",
    "    test_image = image.load_img(im, target_size = (64, 64))\n",
    "    test_image = image.img_to_array(test_image)\n",
    "    test_image = np.expand_dims(test_image, axis = 0)\n",
    "    result = cnn.predict(test_image) # cnn == the saved model\n",
    "    \n",
    "    if result[0][0] <= 0.1: # test for the probabilites is less than 10%\n",
    "        prediction = 'NON-COVID'\n",
    "    else:\n",
    "        prediction = 'COVID-19'\n",
    "\n",
    "    #print(prediction)\n",
    "    return prediction\n",
    "    \n",
    "    "
   ]
  },
  {
   "cell_type": "code",
   "execution_count": 89,
   "metadata": {
    "id": "d773bimNuNu7"
   },
   "outputs": [],
   "source": [
    "def testSingleImagePrediction():\n",
    "    import matplotlib.pyplot as plt\n",
    "    import matplotlib.image as mpimg\n",
    "    \n",
    "    #test_covid = \"/content/gdrive/MyDrive/DATA/test/covid/\"\n",
    "    #test_non_covid = \"/content/gdrive/MyDrive/DATA/test/non/\"\n",
    "    test_covid = \"./DATA/test/covid/\"\n",
    "    test_non_covid = \"./DATA/test/non/\"\n",
    "\n",
    "    Covid_in_test = [i for i in os.listdir(test_covid)]\n",
    "    nonCovid_in_test = [i for i in os.listdir(test_non_covid)]\n",
    "    \n",
    "    test1 = test_covid + random.choice(Covid_in_test)\n",
    "    test2 = test_non_covid + random.choice(nonCovid_in_test)\n",
    "    \n",
    "    imageCovid = mpimg.imread(test1)\n",
    "    \n",
    "    plt.imshow(imageCovid)\n",
    "    plt.title(\"True image-1 of Covid\")\n",
    "    plt.show()\n",
    "    \n",
    "    imageNonCovid = mpimg.imread(test2)\n",
    "    plt.imshow(imageNonCovid)\n",
    "    plt.title(\"True image:2 of Non-Covid\")\n",
    "    plt.show()\n",
    "    \n",
    "    return (\"Result of image-1 is: %s. Result of image-2 is: %s.\" %(predicter(test1), predicter(test2)) )\n",
    "    "
   ]
  },
  {
   "cell_type": "code",
   "execution_count": 90,
   "metadata": {
    "colab": {
     "base_uri": "https://localhost:8080/",
     "height": 903
    },
    "id": "1O1GZ_vsufjp",
    "outputId": "de229c9f-2697-4ddd-bd85-272debc9333e"
   },
   "outputs": [
    {
     "data": {
      "image/png": "[encoded data removed]",
      "text/plain": [
       "<Figure size 432x288 with 1 Axes>"
      ]
     },
     "metadata": {
      "needs_background": "light"
     },
     "output_type": "display_data"
    },
    {
     "data": {
      "image/png": "[encoded data removed]",
      "text/plain": [
       "<Figure size 432x288 with 1 Axes>"
      ]
     },
     "metadata": {
      "needs_background": "light"
     },
     "output_type": "display_data"
    },
    {
     "name": "stdout",
     "output_type": "stream",
     "text": [
      "Found 2091 images belonging to 2 classes.\n",
      "Found 3101 images belonging to 2 classes.\n",
      "Epoch 1/2\n",
      "66/66 [==============================] - 42s 623ms/step - loss: 0.2038 - accuracy: 0.9535 - val_loss: 0.1888 - val_accuracy: 0.9674\n",
      "Epoch 2/2\n",
      "66/66 [==============================] - 45s 680ms/step - loss: 0.1465 - accuracy: 0.9595 - val_loss: 0.0919 - val_accuracy: 0.9710\n",
      "WARNING:tensorflow:5 out of the last 5 calls to <function Model.make_predict_function.<locals>.predict_function at 0x7f947f68af70> triggered tf.function retracing. Tracing is expensive and the excessive number of tracings could be due to (1) creating @tf.function repeatedly in a loop, (2) passing tensors with different shapes, (3) passing Python objects instead of tensors. For (1), please define your @tf.function outside of the loop. For (2), @tf.function has experimental_relax_shapes=True option that relaxes argument shapes that can avoid unnecessary retracing. For (3), please refer to https://www.tensorflow.org/guide/function#controlling_retracing and https://www.tensorflow.org/api_docs/python/tf/function for  more details.\n",
      "Found 2091 images belonging to 2 classes.\n",
      "Found 3101 images belonging to 2 classes.\n",
      "Epoch 1/2\n",
      "66/66 [==============================] - 49s 733ms/step - loss: 0.2209 - accuracy: 0.9610 - val_loss: 0.0827 - val_accuracy: 0.9674\n",
      "Epoch 2/2\n",
      "66/66 [==============================] - 46s 697ms/step - loss: 0.1216 - accuracy: 0.9542 - val_loss: 0.0530 - val_accuracy: 0.9726\n",
      "WARNING:tensorflow:6 out of the last 6 calls to <function Model.make_predict_function.<locals>.predict_function at 0x7f949c41b5e0> triggered tf.function retracing. Tracing is expensive and the excessive number of tracings could be due to (1) creating @tf.function repeatedly in a loop, (2) passing tensors with different shapes, (3) passing Python objects instead of tensors. For (1), please define your @tf.function outside of the loop. For (2), @tf.function has experimental_relax_shapes=True option that relaxes argument shapes that can avoid unnecessary retracing. For (3), please refer to https://www.tensorflow.org/guide/function#controlling_retracing and https://www.tensorflow.org/api_docs/python/tf/function for  more details.\n"
     ]
    },
    {
     "data": {
      "text/plain": [
       "'Result of image-1 is: COVID-19. Result of image-2 is: COVID-19.'"
      ]
     },
     "execution_count": 90,
     "metadata": {},
     "output_type": "execute_result"
    }
   ],
   "source": [
    "testSingleImagePrediction()"
   ]
  },
  {
   "cell_type": "code",
   "execution_count": 164,
   "metadata": {
    "id": "3XlEemK-ujRR"
   },
   "outputs": [],
   "source": [
    "def saveModel():\n",
    "    # datapath\n",
    "    #train_location = \"/content/gdrive/MyDrive/DATA/train\" \n",
    "    #test_location = \"/content/gdrive/MyDrive/DATA/test\"\n",
    "    #metaData = \"/content/gdrive/MyDrive/DATA/metadata.csv\"\n",
    "    \n",
    "    train_location = \"./DATA/train\" \n",
    "    test_location = \"./DATA/test\"\n",
    "    metaData = \"./metadata.csv\"\n",
    "    \n",
    "    #classes\n",
    "    DP = dataProcessing()\n",
    "    models = buildModel()\n",
    "    \n",
    "    train, test  = DP.imageProcessing(train_location, test_location)\n",
    "    X_train, X_test, y_train, y_test = DP.splittingAndScaling(metaData)\n",
    "    \n",
    "    print(\"CNN starts: \\n\")\n",
    "    cnnModel = models.cnnModel(train, test)\n",
    "    #print(\"ANN starts: \\n\")\n",
    "    #annModel = models.annModel(X_train, y_train)\n",
    "    \n",
    "    #cnnModel.save(\"CNN.h5\")    \n",
    "    #annModel.save('ANN_MODEL.h5')\n",
    "\n",
    "    "
   ]
  },
  {
   "cell_type": "code",
   "execution_count": 165,
   "metadata": {},
   "outputs": [
    {
     "name": "stdout",
     "output_type": "stream",
     "text": [
      "Found 2091 images belonging to 2 classes.\n",
      "Found 3101 images belonging to 2 classes.\n",
      "CNN starts: \n",
      "\n",
      "Epoch 1/2\n",
      "66/66 [==============================] - 32s 467ms/step - loss: 0.2336 - accuracy: 0.9061 - val_loss: 0.0851 - val_accuracy: 0.9674\n",
      "Epoch 2/2\n",
      "66/66 [==============================] - 30s 457ms/step - loss: 0.0899 - accuracy: 0.9667 - val_loss: 0.1243 - val_accuracy: 0.9674\n",
      "WARNING:tensorflow:11 out of the last 11 calls to <function Model.make_predict_function.<locals>.predict_function at 0x7f94780fdc10> triggered tf.function retracing. Tracing is expensive and the excessive number of tracings could be due to (1) creating @tf.function repeatedly in a loop, (2) passing tensors with different shapes, (3) passing Python objects instead of tensors. For (1), please define your @tf.function outside of the loop. For (2), @tf.function has experimental_relax_shapes=True option that relaxes argument shapes that can avoid unnecessary retracing. For (3), please refer to https://www.tensorflow.org/guide/function#controlling_retracing and https://www.tensorflow.org/api_docs/python/tf/function for  more details.\n",
      "{'covid': 0, 'non': 1}\n"
     ]
    }
   ],
   "source": [
    "saveModel()"
   ]
  },
  {
   "cell_type": "code",
   "execution_count": 93,
   "metadata": {
    "id": "4AO9juyN3KdI"
   },
   "outputs": [],
   "source": [
    "def NoneReturner():\n",
    "    print(\"default\")"
   ]
  },
  {
   "cell_type": "code",
   "execution_count": 168,
   "metadata": {
    "colab": {
     "base_uri": "https://localhost:8080/"
    },
    "id": "w9KWlkaZ3UBw",
    "outputId": "fbb00256-e94b-4949-94fe-52e02e659b2c"
   },
   "outputs": [
    {
     "name": "stdout",
     "output_type": "stream",
     "text": [
      "default\n"
     ]
    }
   ],
   "source": [
    "if __name__ == \"__main__\":\n",
    "    #prediction()\n",
    "    #saveModel()\n",
    "    #testSingleImagePrediction  #-> Single image tester\n",
    "    NoneReturner()\n"
   ]
  },
  {
   "cell_type": "code",
   "execution_count": null,
   "metadata": {
    "id": "5VYjzjyd49Ad"
   },
   "outputs": [],
   "source": []
  },
  {
   "cell_type": "code",
   "execution_count": 171,
   "metadata": {},
   "outputs": [
    {
     "name": "stdout",
     "output_type": "stream",
     "text": [
      "POSITIVE\n"
     ]
    }
   ],
   "source": [
    "# test to load the nlp model\n",
    "\n",
    "with open('./NLP_MODEL.pkl', 'rb') as f:\n",
    "    nlp_model = pickle.load(f)\n",
    "\n",
    "with open('./vectorizer_nlp.pkl', 'rb') as f:\n",
    "    vectorizer = pickle.load(f)\n",
    "\n",
    "    \n",
    "test_set = ['very quick speeds']\n",
    "new_test = vectorizer.transform(test_set)\n",
    "\n",
    "x  =nlp_model.predict(new_test)\n",
    "print(x[0])"
   ]
  },
  {
   "cell_type": "code",
   "execution_count": 131,
   "metadata": {},
   "outputs": [
    {
     "name": "stdout",
     "output_type": "stream",
     "text": [
      "WARNING:tensorflow:11 out of the last 11 calls to <function Model.make_predict_function.<locals>.predict_function at 0x7f946d4c3b80> triggered tf.function retracing. Tracing is expensive and the excessive number of tracings could be due to (1) creating @tf.function repeatedly in a loop, (2) passing tensors with different shapes, (3) passing Python objects instead of tensors. For (1), please define your @tf.function outside of the loop. For (2), @tf.function has experimental_relax_shapes=True option that relaxes argument shapes that can avoid unnecessary retracing. For (3), please refer to https://www.tensorflow.org/guide/function#controlling_retracing and https://www.tensorflow.org/api_docs/python/tf/function for  more details.\n",
      "0.037608802\n",
      "Model: \"sequential_5\"\n",
      "_________________________________________________________________\n",
      "Layer (type)                 Output Shape              Param #   \n",
      "=================================================================\n",
      "dense_11 (Dense)             (None, 6)                 30        \n",
      "_________________________________________________________________\n",
      "dense_12 (Dense)             (None, 6)                 42        \n",
      "_________________________________________________________________\n",
      "dense_13 (Dense)             (None, 1)                 7         \n",
      "=================================================================\n",
      "Total params: 79\n",
      "Trainable params: 79\n",
      "Non-trainable params: 0\n",
      "_________________________________________________________________\n"
     ]
    }
   ],
   "source": [
    "import keras\n",
    "ann_model = keras.models.load_model('ANN_MODEL.h5')\n",
    "\n",
    "sc = StandardScaler()\n",
    "r = ann_model.predict(([[1.,23.,1.,38.]]))\n",
    "print(r[0][0])\n",
    "ann_model.summary()"
   ]
  },
  {
   "cell_type": "code",
   "execution_count": 167,
   "metadata": {},
   "outputs": [
    {
     "name": "stdout",
     "output_type": "stream",
     "text": [
      "WARNING:tensorflow:11 out of the last 11 calls to <function Model.make_predict_function.<locals>.predict_function at 0x7f94736b8820> triggered tf.function retracing. Tracing is expensive and the excessive number of tracings could be due to (1) creating @tf.function repeatedly in a loop, (2) passing tensors with different shapes, (3) passing Python objects instead of tensors. For (1), please define your @tf.function outside of the loop. For (2), @tf.function has experimental_relax_shapes=True option that relaxes argument shapes that can avoid unnecessary retracing. For (3), please refer to https://www.tensorflow.org/guide/function#controlling_retracing and https://www.tensorflow.org/api_docs/python/tf/function for  more details.\n",
      "NON-COVID\n",
      "1.0\n"
     ]
    }
   ],
   "source": [
    "cnn_model = keras.models.load_model('CNN.h5')\n",
    "p = \"./DATA/test/non/patient00036-study1-view1_frontal.jpg\"\n",
    "test_image = image.load_img(p, target_size = (64, 64))\n",
    "test_image = image.img_to_array(test_image)\n",
    "test_image = np.expand_dims(test_image, axis = 0)\n",
    "result = cnn_model.predict(test_image) # cnn == the saved model\n",
    "\n",
    "if result[0][0] == 1: # test for the probabilites is less than 10%\n",
    "    prediction = 'NON-COVID'\n",
    "else:\n",
    "    prediction = 'COVID-19'\n",
    "\n",
    "print(prediction)\n",
    "print(result[0][0])\n"
   ]
  },
  {
   "cell_type": "code",
   "execution_count": null,
   "metadata": {},
   "outputs": [],
   "source": []
  },
  {
   "cell_type": "code",
   "execution_count": null,
   "metadata": {},
   "outputs": [],
   "source": []
  }
 ],
 "metadata": {
  "accelerator": "GPU",
  "colab": {
   "collapsed_sections": [],
   "name": "Mini_project.ipynb",
   "provenance": [],
   "toc_visible": true
  },
  "kernelspec": {
   "display_name": "Python 3",
   "language": "python",
   "name": "python3"
  },
  "language_info": {
   "codemirror_mode": {
    "name": "ipython",
    "version": 3
   },
   "file_extension": ".py",
   "mimetype": "text/x-python",
   "name": "python",
   "nbconvert_exporter": "python",
   "pygments_lexer": "ipython3",
   "version": "3.8.5"
  }
 },
 "nbformat": 4,
 "nbformat_minor": 4
}
