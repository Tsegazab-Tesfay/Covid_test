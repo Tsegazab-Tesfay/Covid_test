{
 "cells": [
  {
   "cell_type": "code",
   "execution_count": 63,
   "metadata": {},
   "outputs": [],
   "source": [
    "import os\n",
    "import tensorflow as tf\n",
    "from keras.preprocessing.image import ImageDataGenerator\n",
    "import matplotlib.pyplot as plt\n",
    "import matplotlib.image as mpimg\n",
    "import random\n",
    "import numpy as np\n",
    "from keras.preprocessing import image\n",
    "from keras.models import load_model\n",
    "import pandas as pd\n",
    "import sweetviz as sv\n",
    "from sklearn.compose import ColumnTransformer\n",
    "#from sklearn.preprocessing import OneHotEncoder\n",
    "from sklearn.preprocessing import StandardScaler\n",
    "from sklearn.model_selection import train_test_split\n",
    "import warnings\n",
    "warnings.filterwarnings(\"ignore\")\n",
    "#import pickle\n",
    "\n",
    "from sklearn.metrics import accuracy_score\n",
    "from sklearn.metrics import precision_score\n",
    "from sklearn.metrics import recall_score\n",
    "from sklearn.metrics import f1_score\n",
    "from sklearn.metrics import roc_auc_score\n",
    "from sklearn.metrics import confusion_matrix\n",
    "\n",
    "from sklearn.metrics import confusion_matrix, classification_report # will be used for ann"
   ]
  },
  {
   "cell_type": "markdown",
   "metadata": {},
   "source": [
    "## Data source\n",
    "* https://github.com/ieee8023\n",
    "* https://ourworldindata.org/coronavirus-source-data\n"
   ]
  },
  {
   "cell_type": "code",
   "execution_count": 501,
   "metadata": {},
   "outputs": [],
   "source": [
    "#https://ourworldindata.org/coronavirus-source-data"
   ]
  },
  {
   "cell_type": "code",
   "execution_count": 502,
   "metadata": {},
   "outputs": [
    {
     "name": "stdout",
     "output_type": "stream",
     "text": [
      "2.4.1\n"
     ]
    }
   ],
   "source": [
    "print(tf.__version__)"
   ]
  },
  {
   "cell_type": "code",
   "execution_count": 2,
   "metadata": {},
   "outputs": [
    {
     "data": {
      "text/plain": [
       "Index(['patientid', 'offset', 'sex', 'age', 'finding', 'RT_PCR_positive',\n",
       "       'survival', 'intubated', 'intubation_present', 'went_icu', 'in_icu',\n",
       "       'needed_supplemental_O2', 'extubated', 'temperature', 'pO2_saturation',\n",
       "       'leukocyte_count', 'neutrophil_count', 'lymphocyte_count', 'view',\n",
       "       'modality', 'date', 'location', 'folder', 'filename', 'doi', 'url',\n",
       "       'license', 'clinical_notes', 'other_notes', 'Unnamed: 29'],\n",
       "      dtype='object')"
      ]
     },
     "execution_count": 2,
     "metadata": {},
     "output_type": "execute_result"
    }
   ],
   "source": [
    "file_path = \"metadata.csv\"\n",
    "data = pd.read_csv(file_path)\n",
    "data.columns"
   ]
  },
  {
   "cell_type": "code",
   "execution_count": 3,
   "metadata": {},
   "outputs": [],
   "source": [
    "# Here I made html file to see the detail information\n",
    "#data_report = sv.analyze(df)\n",
    "#data_report.show_html()"
   ]
  },
  {
   "cell_type": "code",
   "execution_count": 505,
   "metadata": {},
   "outputs": [
    {
     "data": {
      "image/png": "[encoded data removed]",
      "text/plain": [
       "<Figure size 500x500 with 1 Axes>"
      ]
     },
     "metadata": {},
     "output_type": "display_data"
    }
   ],
   "source": [
    "# Sex distribution (nan if unknown)\n",
    "ax = data[\"sex\"].value_counts(dropna=False).plot.pie(y=\"sex\", legend = True, autopct='%2.0f%%', figsize = (5,5), title = 'Sex Distribution')\n"
   ]
  },
  {
   "cell_type": "markdown",
   "metadata": {},
   "source": [
    "## Divided into multiple models to give best result as possible\n",
    "* part 1\n",
    "* part 2\n",
    "* part 3"
   ]
  },
  {
   "cell_type": "code",
   "execution_count": 4,
   "metadata": {},
   "outputs": [],
   "source": [
    "## The first one to test the model\n",
    "## \"location\"\n",
    "## \"date\"\n",
    "#df1 = data[[\"sex\", \"age\", \"went_icu\", \"temperature\", \"RT_PCR_positive\"]]\n",
    "\n",
    "## The Second one to test the model\n",
    "#df2 = data[[\"clinical_notes\", \"RT_PCR_positive\"]]\n",
    "\n"
   ]
  },
  {
   "cell_type": "code",
   "execution_count": 5,
   "metadata": {},
   "outputs": [],
   "source": [
    "##print(ann.predict(sc.transform([[1,1,0,38]])) > 0.5)"
   ]
  },
  {
   "cell_type": "code",
   "execution_count": 6,
   "metadata": {},
   "outputs": [],
   "source": [
    "##y_pred = ann.predict(X_test)\n",
    "##y_pred = (y_pred > 0.5)\n"
   ]
  },
  {
   "cell_type": "markdown",
   "metadata": {},
   "source": [
    "## Conv Matrix"
   ]
  },
  {
   "cell_type": "code",
   "execution_count": 520,
   "metadata": {},
   "outputs": [],
   "source": [
    "##from sklearn.metrics import confusion_matrix, accuracy_score\n",
    "##cm = confusion_matrix(y_test, y_pred)\n",
    "##print(cm)\n",
    "##accuracy_score(y_test, y_pred)"
   ]
  },
  {
   "cell_type": "code",
   "execution_count": null,
   "metadata": {},
   "outputs": [],
   "source": []
  },
  {
   "cell_type": "code",
   "execution_count": 521,
   "metadata": {},
   "outputs": [
    {
     "name": "stdout",
     "output_type": "stream",
     "text": [
      "For ANN, CNN\n",
      "**********************************************************************\n"
     ]
    }
   ],
   "source": [
    "print(\"For ANN, CNN\")\n",
    "print(\"*\"*70)"
   ]
  },
  {
   "cell_type": "code",
   "execution_count": 130,
   "metadata": {},
   "outputs": [],
   "source": [
    "class dataProcessing:\n",
    "    \n",
    "    def imageProcessing(self, train_location, test_location):\n",
    "                \n",
    "        train_datagen = ImageDataGenerator(rescale = 1./255,\n",
    "                                      shear_range = 0.2,\n",
    "                                      zoom_range = 0.2,\n",
    "                                      horizontal_flip = True)\n",
    "        test_datagen = ImageDataGenerator(rescale = 1./255)\n",
    "        \n",
    "        training_set = train_datagen.flow_from_directory(train_location,\n",
    "                                                        target_size = (64, 64),\n",
    "                                                        batch_size = 32,\n",
    "                                                        class_mode = \"binary\")\n",
    "        test_set = test_datagen.flow_from_directory(test_location,\n",
    "                                           target_size = (64, 64),\n",
    "                                           batch_size = 32,\n",
    "                                           class_mode = \"binary\")\n",
    "        return training_set, test_set  \n",
    "    \n",
    "    def dataCleanerForAnn(self, data): # this is only for our case\n",
    "        df1 = data[[\"sex\", \"age\", \"went_icu\", \"temperature\", \"RT_PCR_positive\"]]\n",
    "        df1[\"sex\"] = pd.get_dummies(df1[\"sex\"], drop_first=True)\n",
    "        df1[\"went_icu\"] = pd.get_dummies(df1[\"went_icu\"], drop_first=True)\n",
    "        df1[\"RT_PCR_positive\"] = pd.get_dummies(df1[\"RT_PCR_positive\"], drop_first=True)\n",
    "\n",
    "        df1[\"temperature\"].fillna(df1[\"temperature\"].mean(), inplace=True)\n",
    "        df1[\"age\"].fillna(df1[\"age\"].mean(), inplace=True)\n",
    "        return df1\n",
    "    \n",
    "    def splittingAndScaling(self, datapath):\n",
    "        data = pd.read_csv(datapath)\n",
    "        arrangedData  = self.dataCleanerForAnn(data)\n",
    "        X = arrangedData.iloc[:, :-1].values\n",
    "        y = arrangedData.iloc[: ,-1].values \n",
    "        \n",
    "        X_train, X_test, y_train, y_test = train_test_split(X, y, test_size = 0.3, random_state = 0)\n",
    "        sc = StandardScaler()\n",
    "        #print(type(X_test[0][0]), X_test[0][0])\n",
    "        #X_train = sc.fit_transform(X_train)\n",
    "        #X_test = sc.transform(X_test)        \n",
    "        #print(type(X_test[0][0]), X_test[0][0])\n",
    "        return X_train, X_test, y_train, y_test"
   ]
  },
  {
   "cell_type": "code",
   "execution_count": 8,
   "metadata": {},
   "outputs": [],
   "source": [
    "class buildModel:\n",
    "    \n",
    "    def annModel(self):\n",
    "        ann = tf.keras.models.Sequential()\n",
    "        ann.add(tf.keras.layers.Dense(units=6, activation='relu'))\n",
    "        ann.add(tf.keras.layers.Dense(units=6, activation='relu'))\n",
    "        ann.add(tf.keras.layers.Dense(units=1, activation='sigmoid'))\n",
    "        ann.compile(optimizer = 'adam', loss = 'binary_crossentropy', metrics = ['accuracy'])\n",
    "        return ann\n",
    "        \n",
    "    def cnnModel(self):\n",
    "        cnn = tf.keras.models.Sequential()\n",
    "        cnn.add(tf.keras.layers.Conv2D(filters=32, kernel_size=3, activation='relu', input_shape=[64, 64, 3]))\n",
    "        cnn.add(tf.keras.layers.MaxPool2D(pool_size=2, strides=2))\n",
    "        cnn.add(tf.keras.layers.Conv2D(filters=32, kernel_size=3, activation='relu'))\n",
    "        cnn.add(tf.keras.layers.MaxPool2D(pool_size=2, strides=2))\n",
    "        cnn.add(tf.keras.layers.Flatten())\n",
    "        cnn.add(tf.keras.layers.Dense(units=128, activation='relu'))\n",
    "        cnn.add(tf.keras.layers.Dense(units=1, activation='sigmoid'))\n",
    "        cnn.compile(optimizer = 'adam', loss = 'binary_crossentropy', metrics = ['accuracy'])\n",
    "        \n",
    "        return cnn\n",
    "    "
   ]
  },
  {
   "cell_type": "code",
   "execution_count": 9,
   "metadata": {},
   "outputs": [],
   "source": [
    "def classificationReportTest(y_test, y_pred):\n",
    "    print(\"result: \".upper())\n",
    "    print(confusion_matrix(y_test, y_pred))\n",
    "    print(classification_report(y_test, y_pred))\n",
    "    \n",
    "    "
   ]
  },
  {
   "cell_type": "code",
   "execution_count": 104,
   "metadata": {},
   "outputs": [],
   "source": [
    "def saveModel():\n",
    "    # datapath\n",
    "    #train_location = \"DATA/train\"\n",
    "    #test_location = \"DATA/test\"\n",
    "    metaData = \"./metadata.csv\"\n",
    "    \n",
    "    #classes\n",
    "    DP = dataProcessing()\n",
    "    models = buildModel()\n",
    "    \n",
    "    #train, test  = DP.imageProcessing(train_l, test_l)\n",
    "    X_train, X_test, y_train, y_test = DP.splittingAndScaling(metaData)\n",
    "    \n",
    "    #cnnModel = models.cnnModel().fit(x = train, validation_data = test, epochs = 2)\n",
    "    annModel = models.annModel()\n",
    "    annModel.fit(X_train, y_train, batch_size = 32, epochs = 10)\n",
    "    \n",
    "    # Result\n",
    "    # ann saved model = SM\n",
    "    y_pred = annModel.predict(X_test, verbose=0)\n",
    "    y_pred_classes = annModel.predict_classes(X_test, verbose=1)\n",
    "    \n",
    "    y_pred = y_pred[:, 0]\n",
    "    y_pred_classes = y_pred_classes[:, 0]\n",
    "    \n",
    "    \n",
    "    # accuracy: (tp + tn) / (p + n)\n",
    "    accuracy = accuracy_score(y_test, y_pred_classes)\n",
    "    print('Accuracy: %f' % accuracy)\n",
    "    # precision tp / (tp + fp)\n",
    "    precision = precision_score(y_test, y_pred_classes)\n",
    "    print('Precision: %f' % precision)\n",
    "    # recall: tp / (tp + fn)\n",
    "    recall = recall_score(y_test, y_pred_classes)\n",
    "    print('Recall: %f' % recall)\n",
    "    # f1: 2 tp / (2 tp + fp + fn)\n",
    "    f1 = f1_score(y_test, y_pred_classes)\n",
    "    print('F1 score: %f' % f1)\n",
    "    # ROC AUC\n",
    "    auc = roc_auc_score(y_test, y_pred_classes)\n",
    "    print('ROC AUC: %f' % auc)\n",
    "    # confusion matrix\n",
    "    matrix = confusion_matrix(y_test, y_pred_classes)\n",
    "    print(matrix)\n",
    "\n",
    "    # here I have to find a way of saving model, so that I can use them again without running again    "
   ]
  },
  {
   "cell_type": "code",
   "execution_count": 131,
   "metadata": {},
   "outputs": [
    {
     "name": "stdout",
     "output_type": "stream",
     "text": [
      "Epoch 1/10\n",
      "21/21 [==============================] - 1s 1ms/step - loss: 6.7651 - accuracy: 0.3744\n",
      "Epoch 2/10\n",
      "21/21 [==============================] - 0s 2ms/step - loss: 5.1575 - accuracy: 0.3968\n",
      "Epoch 3/10\n",
      "21/21 [==============================] - 0s 1ms/step - loss: 4.1893 - accuracy: 0.3783\n",
      "Epoch 4/10\n",
      "21/21 [==============================] - 0s 1ms/step - loss: 2.9989 - accuracy: 0.4119\n",
      "Epoch 5/10\n",
      "21/21 [==============================] - 0s 1ms/step - loss: 2.0410 - accuracy: 0.4501\n",
      "Epoch 6/10\n",
      "21/21 [==============================] - 0s 2ms/step - loss: 1.4220 - accuracy: 0.4312\n",
      "Epoch 7/10\n",
      "21/21 [==============================] - 0s 2ms/step - loss: 0.9408 - accuracy: 0.4286\n",
      "Epoch 8/10\n",
      "21/21 [==============================] - 0s 2ms/step - loss: 0.7533 - accuracy: 0.4272\n",
      "Epoch 9/10\n",
      "21/21 [==============================] - 0s 2ms/step - loss: 0.7018 - accuracy: 0.5678\n",
      "Epoch 10/10\n",
      "21/21 [==============================] - 0s 2ms/step - loss: 0.6902 - accuracy: 0.5700\n",
      "9/9 [==============================] - 0s 977us/step\n",
      "Accuracy: 0.624561\n",
      "Precision: 0.411765\n",
      "Recall: 0.067308\n",
      "F1 score: 0.115702\n",
      "ROC AUC: 0.506030\n",
      "[[171  10]\n",
      " [ 97   7]]\n"
     ]
    }
   ],
   "source": [
    "saveModel()"
   ]
  },
  {
   "cell_type": "code",
   "execution_count": 11,
   "metadata": {},
   "outputs": [],
   "source": [
    "def predicter(im):\n",
    "    # call the saved model as a pickle   \n",
    "    # ????\n",
    "    ##train_location = \"DATA/train\"\n",
    "    ##test_location = \"DATA/test\"\n",
    "    ##DP = dataProcessing()\n",
    "    ##bM = buildModel()\n",
    "    ##train, test  = DP.process(train_l, test_l)\n",
    "    ##cnn = bM.cnnModel().fit(x = train, validation_data = test, epochs = 2)\n",
    "    test_image = image.load_img(im, target_size = (64, 64))\n",
    "    test_image = image.img_to_array(test_image)\n",
    "    test_image = np.expand_dims(test_image, axis = 0)\n",
    "    result = cnn.predict(test_image) # cnn == the saved model\n",
    "    training_set.class_indices\n",
    "    \n",
    "    if result[0][0] <= 0.1: # If the probabilites is less than 10%\n",
    "        prediction = 'NON-COVID'\n",
    "    else:\n",
    "        prediction = 'COVID-19'\n",
    "\n",
    "    #print(prediction)\n",
    "    return prediction\n",
    "    \n",
    "    "
   ]
  },
  {
   "cell_type": "code",
   "execution_count": 12,
   "metadata": {},
   "outputs": [],
   "source": [
    "def testSingleImagePrediction(): # here the point is to test random picked images(one from each)\n",
    "    # from line 3 to line 9 we see as saved model\n",
    "    \n",
    "    \n",
    "    ## Here I want to test when the model is saved\n",
    "    # both these images are in the test-set(i.e one random from covid and one from noncovid)\n",
    "    \n",
    "    test_covid = \"DATA/test/covid/\"\n",
    "    test_non_covid = \"DATA/test/non/\"\n",
    "\n",
    "    Covid_in_test = [i for i in os.listdir(test_covid)]\n",
    "    nonCovid_in_test = [i for i in os.listdir(test_non_covid)]\n",
    "    \n",
    "    test1 = test_covid + random.choice(Covid_in_test)\n",
    "    test2 = test_non_covid + random.choice(nonCovid_in_test)\n",
    "    \n",
    "    imageCovid = mpimg.imread(test1)\n",
    "    plt.imshow(imageCovid)\n",
    "    plt.title(\"True image-1 of Covid\")\n",
    "    plt.show()\n",
    "    \n",
    "    imageNonCovid = mpimg.imread(test2)\n",
    "    plt.imshow(imageNonCovid)\n",
    "    plt.title(\"True image:2 of Non-Covid\")\n",
    "    plt.show()\n",
    "    \n",
    "    return (\"Result of image-1 is: %s. Result of image-2 is: %s.\" %(predicter(test1), predicter(test2)) )\n",
    "    "
   ]
  },
  {
   "cell_type": "code",
   "execution_count": 13,
   "metadata": {},
   "outputs": [],
   "source": [
    "#testSingleImagePrediction()  ==> will show as an example from both covid and noncovid"
   ]
  },
  {
   "cell_type": "code",
   "execution_count": 528,
   "metadata": {},
   "outputs": [],
   "source": [
    "def NoneReturner():\n",
    "    print(\"default\")"
   ]
  },
  {
   "cell_type": "code",
   "execution_count": 95,
   "metadata": {},
   "outputs": [
    {
     "name": "stdout",
     "output_type": "stream",
     "text": [
      "[ 1.         53.53436185  1.         38.89871795]\n",
      "Epoch 1/10\n",
      "21/21 [==============================] - 1s 2ms/step - loss: 0.6856 - accuracy: 0.6089\n",
      "Epoch 2/10\n",
      "21/21 [==============================] - 0s 2ms/step - loss: 0.6861 - accuracy: 0.5855\n",
      "Epoch 3/10\n",
      "21/21 [==============================] - 0s 2ms/step - loss: 0.6889 - accuracy: 0.5860\n",
      "Epoch 4/10\n",
      "21/21 [==============================] - 0s 2ms/step - loss: 0.6911 - accuracy: 0.5773\n",
      "Epoch 5/10\n",
      "21/21 [==============================] - 0s 3ms/step - loss: 0.6882 - accuracy: 0.5967\n",
      "Epoch 6/10\n",
      "21/21 [==============================] - 0s 2ms/step - loss: 0.6738 - accuracy: 0.5865\n",
      "Epoch 7/10\n",
      "21/21 [==============================] - 0s 2ms/step - loss: 0.6833 - accuracy: 0.5659\n",
      "Epoch 8/10\n",
      "21/21 [==============================] - 0s 1ms/step - loss: 0.6589 - accuracy: 0.6084\n",
      "Epoch 9/10\n",
      "21/21 [==============================] - 0s 2ms/step - loss: 0.6760 - accuracy: 0.5752\n",
      "Epoch 10/10\n",
      "21/21 [==============================] - 0s 2ms/step - loss: 0.6720 - accuracy: 0.5786\n",
      "9/9 [==============================] - 0s 1ms/step\n",
      "Accuracy: 0.624561\n",
      "Precision: 0.434783\n",
      "Recall: 0.096154\n",
      "F1 score: 0.157480\n",
      "ROC AUC: 0.512165\n",
      "[[168  13]\n",
      " [ 94  10]]\n"
     ]
    }
   ],
   "source": [
    "if __name__ == \"__main__\":\n",
    "    #prediction()\n",
    "    saveModel()\n",
    "    #NoneReturner()\n"
   ]
  },
  {
   "cell_type": "code",
   "execution_count": null,
   "metadata": {},
   "outputs": [],
   "source": []
  },
  {
   "cell_type": "code",
   "execution_count": 530,
   "metadata": {},
   "outputs": [
    {
     "name": "stdout",
     "output_type": "stream",
     "text": [
      "end of CNN\n",
      "**********************************************************************\n"
     ]
    }
   ],
   "source": [
    "print(\"end of CNN\")\n",
    "print(\"*\"*70)"
   ]
  },
  {
   "cell_type": "code",
   "execution_count": null,
   "metadata": {},
   "outputs": [],
   "source": []
  },
  {
   "cell_type": "code",
   "execution_count": 142,
   "metadata": {},
   "outputs": [],
   "source": [
    "# Test the saved the models\n",
    "new_cnn_model = tf.keras.models.load_model(\"CNN.h5\")\n",
    "new_ann_model = tf.keras.models.load_model(\"ANN.h5\")"
   ]
  },
  {
   "cell_type": "code",
   "execution_count": 146,
   "metadata": {},
   "outputs": [
    {
     "data": {
      "text/plain": [
       "array([[4.8196383e-05]], dtype=float32)"
      ]
     },
     "execution_count": 146,
     "metadata": {},
     "output_type": "execute_result"
    }
   ],
   "source": [
    "new_ann_model.predict([[0.,64.,1.,40]])\n",
    "#new_ann_model.predict(sc.transform([[0.,16.,0.,60.]]))"
   ]
  },
  {
   "cell_type": "code",
   "execution_count": null,
   "metadata": {},
   "outputs": [],
   "source": []
  }
 ],
 "metadata": {
  "kernelspec": {
   "display_name": "Python 3",
   "language": "python",
   "name": "python3"
  },
  "language_info": {
   "codemirror_mode": {
    "name": "ipython",
    "version": 3
   },
   "file_extension": ".py",
   "mimetype": "text/x-python",
   "name": "python",
   "nbconvert_exporter": "python",
   "pygments_lexer": "ipython3",
   "version": "3.8.5"
  }
 },
 "nbformat": 4,
 "nbformat_minor": 4
}
